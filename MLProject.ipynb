{
 "cells": [
  {
   "cell_type": "markdown",
   "id": "04db55ea",
   "metadata": {},
   "source": [
    "## Random forest (Classical ready)"
   ]
  },
  {
   "cell_type": "code",
   "execution_count": 754,
   "id": "51149c87",
   "metadata": {},
   "outputs": [],
   "source": [
    "import numpy as np, pandas as pd\n",
    "import matplotlib.pyplot as plt\n",
    "import seaborn as sns\n",
    "from sklearn.ensemble import RandomForestClassifier\n",
    "from sklearn.model_selection import train_test_split\n",
    "%matplotlib inline"
   ]
  },
  {
   "cell_type": "code",
   "execution_count": 755,
   "id": "79b45006",
   "metadata": {},
   "outputs": [
    {
     "data": {
      "text/html": [
       "<div>\n",
       "<style scoped>\n",
       "    .dataframe tbody tr th:only-of-type {\n",
       "        vertical-align: middle;\n",
       "    }\n",
       "\n",
       "    .dataframe tbody tr th {\n",
       "        vertical-align: top;\n",
       "    }\n",
       "\n",
       "    .dataframe thead th {\n",
       "        text-align: right;\n",
       "    }\n",
       "</style>\n",
       "<table border=\"1\" class=\"dataframe\">\n",
       "  <thead>\n",
       "    <tr style=\"text-align: right;\">\n",
       "      <th></th>\n",
       "      <th>id</th>\n",
       "      <th>name</th>\n",
       "      <th>est_diameter_min</th>\n",
       "      <th>est_diameter_max</th>\n",
       "      <th>relative_velocity</th>\n",
       "      <th>miss_distance</th>\n",
       "      <th>orbiting_body</th>\n",
       "      <th>sentry_object</th>\n",
       "      <th>absolute_magnitude</th>\n",
       "      <th>hazardous</th>\n",
       "    </tr>\n",
       "  </thead>\n",
       "  <tbody>\n",
       "    <tr>\n",
       "      <th>0</th>\n",
       "      <td>2162635</td>\n",
       "      <td>162635 (2000 SS164)</td>\n",
       "      <td>1.198271</td>\n",
       "      <td>2.679415</td>\n",
       "      <td>13569.249224</td>\n",
       "      <td>5.483974e+07</td>\n",
       "      <td>Earth</td>\n",
       "      <td>False</td>\n",
       "      <td>16.73</td>\n",
       "      <td>False</td>\n",
       "    </tr>\n",
       "    <tr>\n",
       "      <th>1</th>\n",
       "      <td>2277475</td>\n",
       "      <td>277475 (2005 WK4)</td>\n",
       "      <td>0.265800</td>\n",
       "      <td>0.594347</td>\n",
       "      <td>73588.726663</td>\n",
       "      <td>6.143813e+07</td>\n",
       "      <td>Earth</td>\n",
       "      <td>False</td>\n",
       "      <td>20.00</td>\n",
       "      <td>True</td>\n",
       "    </tr>\n",
       "    <tr>\n",
       "      <th>2</th>\n",
       "      <td>2512244</td>\n",
       "      <td>512244 (2015 YE18)</td>\n",
       "      <td>0.722030</td>\n",
       "      <td>1.614507</td>\n",
       "      <td>114258.692129</td>\n",
       "      <td>4.979872e+07</td>\n",
       "      <td>Earth</td>\n",
       "      <td>False</td>\n",
       "      <td>17.83</td>\n",
       "      <td>False</td>\n",
       "    </tr>\n",
       "    <tr>\n",
       "      <th>3</th>\n",
       "      <td>3596030</td>\n",
       "      <td>(2012 BV13)</td>\n",
       "      <td>0.096506</td>\n",
       "      <td>0.215794</td>\n",
       "      <td>24764.303138</td>\n",
       "      <td>2.543497e+07</td>\n",
       "      <td>Earth</td>\n",
       "      <td>False</td>\n",
       "      <td>22.20</td>\n",
       "      <td>False</td>\n",
       "    </tr>\n",
       "    <tr>\n",
       "      <th>4</th>\n",
       "      <td>3667127</td>\n",
       "      <td>(2014 GE35)</td>\n",
       "      <td>0.255009</td>\n",
       "      <td>0.570217</td>\n",
       "      <td>42737.733765</td>\n",
       "      <td>4.627557e+07</td>\n",
       "      <td>Earth</td>\n",
       "      <td>False</td>\n",
       "      <td>20.09</td>\n",
       "      <td>True</td>\n",
       "    </tr>\n",
       "    <tr>\n",
       "      <th>...</th>\n",
       "      <td>...</td>\n",
       "      <td>...</td>\n",
       "      <td>...</td>\n",
       "      <td>...</td>\n",
       "      <td>...</td>\n",
       "      <td>...</td>\n",
       "      <td>...</td>\n",
       "      <td>...</td>\n",
       "      <td>...</td>\n",
       "      <td>...</td>\n",
       "    </tr>\n",
       "    <tr>\n",
       "      <th>90831</th>\n",
       "      <td>3763337</td>\n",
       "      <td>(2016 VX1)</td>\n",
       "      <td>0.026580</td>\n",
       "      <td>0.059435</td>\n",
       "      <td>52078.886692</td>\n",
       "      <td>1.230039e+07</td>\n",
       "      <td>Earth</td>\n",
       "      <td>False</td>\n",
       "      <td>25.00</td>\n",
       "      <td>False</td>\n",
       "    </tr>\n",
       "    <tr>\n",
       "      <th>90832</th>\n",
       "      <td>3837603</td>\n",
       "      <td>(2019 AD3)</td>\n",
       "      <td>0.016771</td>\n",
       "      <td>0.037501</td>\n",
       "      <td>46114.605073</td>\n",
       "      <td>5.432121e+07</td>\n",
       "      <td>Earth</td>\n",
       "      <td>False</td>\n",
       "      <td>26.00</td>\n",
       "      <td>False</td>\n",
       "    </tr>\n",
       "    <tr>\n",
       "      <th>90833</th>\n",
       "      <td>54017201</td>\n",
       "      <td>(2020 JP3)</td>\n",
       "      <td>0.031956</td>\n",
       "      <td>0.071456</td>\n",
       "      <td>7566.807732</td>\n",
       "      <td>2.840077e+07</td>\n",
       "      <td>Earth</td>\n",
       "      <td>False</td>\n",
       "      <td>24.60</td>\n",
       "      <td>False</td>\n",
       "    </tr>\n",
       "    <tr>\n",
       "      <th>90834</th>\n",
       "      <td>54115824</td>\n",
       "      <td>(2021 CN5)</td>\n",
       "      <td>0.007321</td>\n",
       "      <td>0.016370</td>\n",
       "      <td>69199.154484</td>\n",
       "      <td>6.869206e+07</td>\n",
       "      <td>Earth</td>\n",
       "      <td>False</td>\n",
       "      <td>27.80</td>\n",
       "      <td>False</td>\n",
       "    </tr>\n",
       "    <tr>\n",
       "      <th>90835</th>\n",
       "      <td>54205447</td>\n",
       "      <td>(2021 TW7)</td>\n",
       "      <td>0.039862</td>\n",
       "      <td>0.089133</td>\n",
       "      <td>27024.455553</td>\n",
       "      <td>5.977213e+07</td>\n",
       "      <td>Earth</td>\n",
       "      <td>False</td>\n",
       "      <td>24.12</td>\n",
       "      <td>False</td>\n",
       "    </tr>\n",
       "  </tbody>\n",
       "</table>\n",
       "<p>90836 rows × 10 columns</p>\n",
       "</div>"
      ],
      "text/plain": [
       "             id                 name  est_diameter_min  est_diameter_max  \\\n",
       "0       2162635  162635 (2000 SS164)          1.198271          2.679415   \n",
       "1       2277475    277475 (2005 WK4)          0.265800          0.594347   \n",
       "2       2512244   512244 (2015 YE18)          0.722030          1.614507   \n",
       "3       3596030          (2012 BV13)          0.096506          0.215794   \n",
       "4       3667127          (2014 GE35)          0.255009          0.570217   \n",
       "...         ...                  ...               ...               ...   \n",
       "90831   3763337           (2016 VX1)          0.026580          0.059435   \n",
       "90832   3837603           (2019 AD3)          0.016771          0.037501   \n",
       "90833  54017201           (2020 JP3)          0.031956          0.071456   \n",
       "90834  54115824           (2021 CN5)          0.007321          0.016370   \n",
       "90835  54205447           (2021 TW7)          0.039862          0.089133   \n",
       "\n",
       "       relative_velocity  miss_distance orbiting_body  sentry_object  \\\n",
       "0           13569.249224   5.483974e+07         Earth          False   \n",
       "1           73588.726663   6.143813e+07         Earth          False   \n",
       "2          114258.692129   4.979872e+07         Earth          False   \n",
       "3           24764.303138   2.543497e+07         Earth          False   \n",
       "4           42737.733765   4.627557e+07         Earth          False   \n",
       "...                  ...            ...           ...            ...   \n",
       "90831       52078.886692   1.230039e+07         Earth          False   \n",
       "90832       46114.605073   5.432121e+07         Earth          False   \n",
       "90833        7566.807732   2.840077e+07         Earth          False   \n",
       "90834       69199.154484   6.869206e+07         Earth          False   \n",
       "90835       27024.455553   5.977213e+07         Earth          False   \n",
       "\n",
       "       absolute_magnitude  hazardous  \n",
       "0                   16.73      False  \n",
       "1                   20.00       True  \n",
       "2                   17.83      False  \n",
       "3                   22.20      False  \n",
       "4                   20.09       True  \n",
       "...                   ...        ...  \n",
       "90831               25.00      False  \n",
       "90832               26.00      False  \n",
       "90833               24.60      False  \n",
       "90834               27.80      False  \n",
       "90835               24.12      False  \n",
       "\n",
       "[90836 rows x 10 columns]"
      ]
     },
     "execution_count": 755,
     "metadata": {},
     "output_type": "execute_result"
    }
   ],
   "source": [
    "df = pd.read_csv(\"neo_v2.csv\")\n",
    "df"
   ]
  },
  {
   "cell_type": "code",
   "execution_count": 756,
   "id": "472c8f41",
   "metadata": {},
   "outputs": [
    {
     "data": {
      "text/html": [
       "<div>\n",
       "<style scoped>\n",
       "    .dataframe tbody tr th:only-of-type {\n",
       "        vertical-align: middle;\n",
       "    }\n",
       "\n",
       "    .dataframe tbody tr th {\n",
       "        vertical-align: top;\n",
       "    }\n",
       "\n",
       "    .dataframe thead th {\n",
       "        text-align: right;\n",
       "    }\n",
       "</style>\n",
       "<table border=\"1\" class=\"dataframe\">\n",
       "  <thead>\n",
       "    <tr style=\"text-align: right;\">\n",
       "      <th></th>\n",
       "      <th>id</th>\n",
       "      <th>est_diameter_min</th>\n",
       "      <th>est_diameter_max</th>\n",
       "      <th>relative_velocity</th>\n",
       "      <th>miss_distance</th>\n",
       "      <th>absolute_magnitude</th>\n",
       "    </tr>\n",
       "  </thead>\n",
       "  <tbody>\n",
       "    <tr>\n",
       "      <th>count</th>\n",
       "      <td>9.083600e+04</td>\n",
       "      <td>90836.000000</td>\n",
       "      <td>90836.000000</td>\n",
       "      <td>90836.000000</td>\n",
       "      <td>9.083600e+04</td>\n",
       "      <td>90836.000000</td>\n",
       "    </tr>\n",
       "    <tr>\n",
       "      <th>mean</th>\n",
       "      <td>1.438288e+07</td>\n",
       "      <td>0.127432</td>\n",
       "      <td>0.284947</td>\n",
       "      <td>48066.918918</td>\n",
       "      <td>3.706655e+07</td>\n",
       "      <td>23.527103</td>\n",
       "    </tr>\n",
       "    <tr>\n",
       "      <th>std</th>\n",
       "      <td>2.087202e+07</td>\n",
       "      <td>0.298511</td>\n",
       "      <td>0.667491</td>\n",
       "      <td>25293.296961</td>\n",
       "      <td>2.235204e+07</td>\n",
       "      <td>2.894086</td>\n",
       "    </tr>\n",
       "    <tr>\n",
       "      <th>min</th>\n",
       "      <td>2.000433e+06</td>\n",
       "      <td>0.000609</td>\n",
       "      <td>0.001362</td>\n",
       "      <td>203.346433</td>\n",
       "      <td>6.745533e+03</td>\n",
       "      <td>9.230000</td>\n",
       "    </tr>\n",
       "    <tr>\n",
       "      <th>25%</th>\n",
       "      <td>3.448110e+06</td>\n",
       "      <td>0.019256</td>\n",
       "      <td>0.043057</td>\n",
       "      <td>28619.020645</td>\n",
       "      <td>1.721082e+07</td>\n",
       "      <td>21.340000</td>\n",
       "    </tr>\n",
       "    <tr>\n",
       "      <th>50%</th>\n",
       "      <td>3.748362e+06</td>\n",
       "      <td>0.048368</td>\n",
       "      <td>0.108153</td>\n",
       "      <td>44190.117890</td>\n",
       "      <td>3.784658e+07</td>\n",
       "      <td>23.700000</td>\n",
       "    </tr>\n",
       "    <tr>\n",
       "      <th>75%</th>\n",
       "      <td>3.884023e+06</td>\n",
       "      <td>0.143402</td>\n",
       "      <td>0.320656</td>\n",
       "      <td>62923.604633</td>\n",
       "      <td>5.654900e+07</td>\n",
       "      <td>25.700000</td>\n",
       "    </tr>\n",
       "    <tr>\n",
       "      <th>max</th>\n",
       "      <td>5.427591e+07</td>\n",
       "      <td>37.892650</td>\n",
       "      <td>84.730541</td>\n",
       "      <td>236990.128088</td>\n",
       "      <td>7.479865e+07</td>\n",
       "      <td>33.200000</td>\n",
       "    </tr>\n",
       "  </tbody>\n",
       "</table>\n",
       "</div>"
      ],
      "text/plain": [
       "                 id  est_diameter_min  est_diameter_max  relative_velocity  \\\n",
       "count  9.083600e+04      90836.000000      90836.000000       90836.000000   \n",
       "mean   1.438288e+07          0.127432          0.284947       48066.918918   \n",
       "std    2.087202e+07          0.298511          0.667491       25293.296961   \n",
       "min    2.000433e+06          0.000609          0.001362         203.346433   \n",
       "25%    3.448110e+06          0.019256          0.043057       28619.020645   \n",
       "50%    3.748362e+06          0.048368          0.108153       44190.117890   \n",
       "75%    3.884023e+06          0.143402          0.320656       62923.604633   \n",
       "max    5.427591e+07         37.892650         84.730541      236990.128088   \n",
       "\n",
       "       miss_distance  absolute_magnitude  \n",
       "count   9.083600e+04        90836.000000  \n",
       "mean    3.706655e+07           23.527103  \n",
       "std     2.235204e+07            2.894086  \n",
       "min     6.745533e+03            9.230000  \n",
       "25%     1.721082e+07           21.340000  \n",
       "50%     3.784658e+07           23.700000  \n",
       "75%     5.654900e+07           25.700000  \n",
       "max     7.479865e+07           33.200000  "
      ]
     },
     "execution_count": 756,
     "metadata": {},
     "output_type": "execute_result"
    }
   ],
   "source": [
    "df.describe()"
   ]
  },
  {
   "cell_type": "code",
   "execution_count": 757,
   "id": "7f191a4d",
   "metadata": {},
   "outputs": [
    {
     "name": "stdout",
     "output_type": "stream",
     "text": [
      "<class 'pandas.core.frame.DataFrame'>\n",
      "RangeIndex: 90836 entries, 0 to 90835\n",
      "Data columns (total 10 columns):\n",
      " #   Column              Non-Null Count  Dtype  \n",
      "---  ------              --------------  -----  \n",
      " 0   id                  90836 non-null  int64  \n",
      " 1   name                90836 non-null  object \n",
      " 2   est_diameter_min    90836 non-null  float64\n",
      " 3   est_diameter_max    90836 non-null  float64\n",
      " 4   relative_velocity   90836 non-null  float64\n",
      " 5   miss_distance       90836 non-null  float64\n",
      " 6   orbiting_body       90836 non-null  object \n",
      " 7   sentry_object       90836 non-null  bool   \n",
      " 8   absolute_magnitude  90836 non-null  float64\n",
      " 9   hazardous           90836 non-null  bool   \n",
      "dtypes: bool(2), float64(5), int64(1), object(2)\n",
      "memory usage: 5.7+ MB\n"
     ]
    }
   ],
   "source": [
    "df.info()"
   ]
  },
  {
   "cell_type": "code",
   "execution_count": 758,
   "id": "724d094a",
   "metadata": {},
   "outputs": [
    {
     "data": {
      "text/plain": [
       "id                    0\n",
       "name                  0\n",
       "est_diameter_min      0\n",
       "est_diameter_max      0\n",
       "relative_velocity     0\n",
       "miss_distance         0\n",
       "orbiting_body         0\n",
       "sentry_object         0\n",
       "absolute_magnitude    0\n",
       "hazardous             0\n",
       "dtype: int64"
      ]
     },
     "execution_count": 758,
     "metadata": {},
     "output_type": "execute_result"
    }
   ],
   "source": [
    "df.isnull().sum()"
   ]
  },
  {
   "cell_type": "code",
   "execution_count": 759,
   "id": "d93787a3",
   "metadata": {},
   "outputs": [
    {
     "data": {
      "text/plain": [
       "<AxesSubplot:>"
      ]
     },
     "execution_count": 759,
     "metadata": {},
     "output_type": "execute_result"
    },
    {
     "data": {
      "image/png": "[encoded data removed]",
      "text/plain": [
       "<Figure size 432x288 with 1 Axes>"
      ]
     },
     "metadata": {
      "needs_background": "light"
     },
     "output_type": "display_data"
    }
   ],
   "source": [
    "df.est_diameter_min.plot(kind='box')"
   ]
  },
  {
   "cell_type": "code",
   "execution_count": 760,
   "id": "4ad13497",
   "metadata": {},
   "outputs": [
    {
     "data": {
      "text/plain": [
       "<AxesSubplot:>"
      ]
     },
     "execution_count": 760,
     "metadata": {},
     "output_type": "execute_result"
    },
    {
     "data": {
      "image/png": "[encoded data removed]",
      "text/plain": [
       "<Figure size 432x288 with 1 Axes>"
      ]
     },
     "metadata": {
      "needs_background": "light"
     },
     "output_type": "display_data"
    }
   ],
   "source": [
    "df.est_diameter_max.plot(kind='box')"
   ]
  },
  {
   "cell_type": "code",
   "execution_count": 761,
   "id": "1f9b89d9",
   "metadata": {},
   "outputs": [
    {
     "data": {
      "text/plain": [
       "<AxesSubplot:>"
      ]
     },
     "execution_count": 761,
     "metadata": {},
     "output_type": "execute_result"
    },
    {
     "data": {
      "image/png": "[encoded data removed]",
      "text/plain": [
       "<Figure size 432x288 with 1 Axes>"
      ]
     },
     "metadata": {
      "needs_background": "light"
     },
     "output_type": "display_data"
    }
   ],
   "source": [
    "df.relative_velocity.plot(kind='box')"
   ]
  },
  {
   "cell_type": "code",
   "execution_count": 762,
   "id": "f3656682",
   "metadata": {},
   "outputs": [
    {
     "data": {
      "text/plain": [
       "<AxesSubplot:>"
      ]
     },
     "execution_count": 762,
     "metadata": {},
     "output_type": "execute_result"
    },
    {
     "data": {
      "image/png": "[encoded data removed]",
      "text/plain": [
       "<Figure size 432x288 with 1 Axes>"
      ]
     },
     "metadata": {
      "needs_background": "light"
     },
     "output_type": "display_data"
    }
   ],
   "source": [
    "df.miss_distance.plot(kind='box')"
   ]
  },
  {
   "cell_type": "code",
   "execution_count": 763,
   "id": "e168956e",
   "metadata": {},
   "outputs": [
    {
     "data": {
      "text/plain": [
       "<AxesSubplot:>"
      ]
     },
     "execution_count": 763,
     "metadata": {},
     "output_type": "execute_result"
    },
    {
     "data": {
      "image/png": "[encoded data removed]",
      "text/plain": [
       "<Figure size 432x288 with 1 Axes>"
      ]
     },
     "metadata": {
      "needs_background": "light"
     },
     "output_type": "display_data"
    }
   ],
   "source": [
    "df.absolute_magnitude.plot(kind='box')"
   ]
  },
  {
   "cell_type": "code",
   "execution_count": 764,
   "id": "962a1ca6",
   "metadata": {},
   "outputs": [
    {
     "data": {
      "text/plain": [
       "False    0.902682\n",
       "True     0.097318\n",
       "Name: hazardous, dtype: float64"
      ]
     },
     "execution_count": 764,
     "metadata": {},
     "output_type": "execute_result"
    }
   ],
   "source": [
    "df.hazardous.value_counts(normalize=True)"
   ]
  },
  {
   "cell_type": "code",
   "execution_count": 765,
   "id": "e0e3e6d0",
   "metadata": {},
   "outputs": [
    {
     "data": {
      "text/plain": [
       "False    81996\n",
       "True      8840\n",
       "Name: hazardous, dtype: int64"
      ]
     },
     "execution_count": 765,
     "metadata": {},
     "output_type": "execute_result"
    }
   ],
   "source": [
    "df.hazardous.value_counts()"
   ]
  },
  {
   "cell_type": "code",
   "execution_count": 766,
   "id": "da940a59",
   "metadata": {},
   "outputs": [
    {
     "data": {
      "image/png": "[encoded data removed]",
      "text/plain": [
       "<Figure size 432x288 with 1 Axes>"
      ]
     },
     "metadata": {
      "needs_background": "light"
     },
     "output_type": "display_data"
    }
   ],
   "source": [
    "df.hazardous.value_counts().plot(kind='bar');"
   ]
  },
  {
   "cell_type": "code",
   "execution_count": 767,
   "id": "66f58504",
   "metadata": {},
   "outputs": [
    {
     "data": {
      "image/png": "[encoded data removed]",
      "text/plain": [
       "<Figure size 1440x720 with 6 Axes>"
      ]
     },
     "metadata": {
      "needs_background": "light"
     },
     "output_type": "display_data"
    }
   ],
   "source": [
    "pd.plotting.hist_frame(df.drop(columns=['id', 'name']), figsize=(20,10));"
   ]
  },
  {
   "cell_type": "code",
   "execution_count": null,
   "id": "37fbe767",
   "metadata": {},
   "outputs": [],
   "source": []
  },
  {
   "cell_type": "code",
   "execution_count": 768,
   "id": "aabb5cde",
   "metadata": {},
   "outputs": [],
   "source": [
    "df_downsampled = df.copy()"
   ]
  },
  {
   "cell_type": "code",
   "execution_count": 769,
   "id": "530d4da4",
   "metadata": {},
   "outputs": [],
   "source": [
    "df_downsampled = df_downsampled.groupby('hazardous', group_keys=False).apply(lambda df_downsampled: df_downsampled.sample(8840))"
   ]
  },
  {
   "cell_type": "code",
   "execution_count": 770,
   "id": "7d90523d",
   "metadata": {},
   "outputs": [],
   "source": [
    "df_downsampled = df_downsampled.reset_index()"
   ]
  },
  {
   "cell_type": "code",
   "execution_count": 771,
   "id": "70053af9",
   "metadata": {},
   "outputs": [
    {
     "data": {
      "text/html": [
       "<div>\n",
       "<style scoped>\n",
       "    .dataframe tbody tr th:only-of-type {\n",
       "        vertical-align: middle;\n",
       "    }\n",
       "\n",
       "    .dataframe tbody tr th {\n",
       "        vertical-align: top;\n",
       "    }\n",
       "\n",
       "    .dataframe thead th {\n",
       "        text-align: right;\n",
       "    }\n",
       "</style>\n",
       "<table border=\"1\" class=\"dataframe\">\n",
       "  <thead>\n",
       "    <tr style=\"text-align: right;\">\n",
       "      <th></th>\n",
       "      <th>index</th>\n",
       "      <th>id</th>\n",
       "      <th>name</th>\n",
       "      <th>est_diameter_min</th>\n",
       "      <th>est_diameter_max</th>\n",
       "      <th>relative_velocity</th>\n",
       "      <th>miss_distance</th>\n",
       "      <th>orbiting_body</th>\n",
       "      <th>sentry_object</th>\n",
       "      <th>absolute_magnitude</th>\n",
       "      <th>hazardous</th>\n",
       "    </tr>\n",
       "  </thead>\n",
       "  <tbody>\n",
       "    <tr>\n",
       "      <th>0</th>\n",
       "      <td>89053</td>\n",
       "      <td>54245579</td>\n",
       "      <td>(2022 CN2)</td>\n",
       "      <td>0.009921</td>\n",
       "      <td>0.022184</td>\n",
       "      <td>58837.876198</td>\n",
       "      <td>3.141432e+06</td>\n",
       "      <td>Earth</td>\n",
       "      <td>False</td>\n",
       "      <td>27.14</td>\n",
       "      <td>False</td>\n",
       "    </tr>\n",
       "    <tr>\n",
       "      <th>1</th>\n",
       "      <td>36449</td>\n",
       "      <td>3787087</td>\n",
       "      <td>(2017 UD1)</td>\n",
       "      <td>0.029144</td>\n",
       "      <td>0.065169</td>\n",
       "      <td>43891.232645</td>\n",
       "      <td>1.185666e+07</td>\n",
       "      <td>Earth</td>\n",
       "      <td>False</td>\n",
       "      <td>24.80</td>\n",
       "      <td>False</td>\n",
       "    </tr>\n",
       "    <tr>\n",
       "      <th>2</th>\n",
       "      <td>5911</td>\n",
       "      <td>54169408</td>\n",
       "      <td>(2021 NT5)</td>\n",
       "      <td>0.010013</td>\n",
       "      <td>0.022389</td>\n",
       "      <td>27949.425188</td>\n",
       "      <td>6.588638e+07</td>\n",
       "      <td>Earth</td>\n",
       "      <td>False</td>\n",
       "      <td>27.12</td>\n",
       "      <td>False</td>\n",
       "    </tr>\n",
       "    <tr>\n",
       "      <th>3</th>\n",
       "      <td>19531</td>\n",
       "      <td>3843342</td>\n",
       "      <td>(2019 ON)</td>\n",
       "      <td>0.024241</td>\n",
       "      <td>0.054205</td>\n",
       "      <td>60371.077559</td>\n",
       "      <td>6.592943e+07</td>\n",
       "      <td>Earth</td>\n",
       "      <td>False</td>\n",
       "      <td>25.20</td>\n",
       "      <td>False</td>\n",
       "    </tr>\n",
       "    <tr>\n",
       "      <th>4</th>\n",
       "      <td>36937</td>\n",
       "      <td>3588018</td>\n",
       "      <td>(2011 WR2)</td>\n",
       "      <td>0.023150</td>\n",
       "      <td>0.051765</td>\n",
       "      <td>45015.029173</td>\n",
       "      <td>7.489281e+06</td>\n",
       "      <td>Earth</td>\n",
       "      <td>False</td>\n",
       "      <td>25.30</td>\n",
       "      <td>False</td>\n",
       "    </tr>\n",
       "    <tr>\n",
       "      <th>...</th>\n",
       "      <td>...</td>\n",
       "      <td>...</td>\n",
       "      <td>...</td>\n",
       "      <td>...</td>\n",
       "      <td>...</td>\n",
       "      <td>...</td>\n",
       "      <td>...</td>\n",
       "      <td>...</td>\n",
       "      <td>...</td>\n",
       "      <td>...</td>\n",
       "      <td>...</td>\n",
       "    </tr>\n",
       "    <tr>\n",
       "      <th>17675</th>\n",
       "      <td>69459</td>\n",
       "      <td>3731242</td>\n",
       "      <td>(2015 TD323)</td>\n",
       "      <td>0.277048</td>\n",
       "      <td>0.619498</td>\n",
       "      <td>99592.214813</td>\n",
       "      <td>2.463266e+07</td>\n",
       "      <td>Earth</td>\n",
       "      <td>False</td>\n",
       "      <td>19.91</td>\n",
       "      <td>True</td>\n",
       "    </tr>\n",
       "    <tr>\n",
       "      <th>17676</th>\n",
       "      <td>81226</td>\n",
       "      <td>3752785</td>\n",
       "      <td>(2016 FG60)</td>\n",
       "      <td>0.152952</td>\n",
       "      <td>0.342011</td>\n",
       "      <td>74480.171690</td>\n",
       "      <td>6.752498e+07</td>\n",
       "      <td>Earth</td>\n",
       "      <td>False</td>\n",
       "      <td>21.20</td>\n",
       "      <td>True</td>\n",
       "    </tr>\n",
       "    <tr>\n",
       "      <th>17677</th>\n",
       "      <td>66825</td>\n",
       "      <td>3714454</td>\n",
       "      <td>(2015 FS117)</td>\n",
       "      <td>0.110804</td>\n",
       "      <td>0.247765</td>\n",
       "      <td>53579.441172</td>\n",
       "      <td>4.083238e+07</td>\n",
       "      <td>Earth</td>\n",
       "      <td>False</td>\n",
       "      <td>21.90</td>\n",
       "      <td>True</td>\n",
       "    </tr>\n",
       "    <tr>\n",
       "      <th>17678</th>\n",
       "      <td>69426</td>\n",
       "      <td>3449591</td>\n",
       "      <td>(2009 EP2)</td>\n",
       "      <td>0.127220</td>\n",
       "      <td>0.284472</td>\n",
       "      <td>71706.156946</td>\n",
       "      <td>4.606436e+07</td>\n",
       "      <td>Earth</td>\n",
       "      <td>False</td>\n",
       "      <td>21.60</td>\n",
       "      <td>True</td>\n",
       "    </tr>\n",
       "    <tr>\n",
       "      <th>17679</th>\n",
       "      <td>12366</td>\n",
       "      <td>2103067</td>\n",
       "      <td>103067 (1999 XA143)</td>\n",
       "      <td>1.160259</td>\n",
       "      <td>2.594418</td>\n",
       "      <td>88241.710018</td>\n",
       "      <td>4.170507e+07</td>\n",
       "      <td>Earth</td>\n",
       "      <td>False</td>\n",
       "      <td>16.80</td>\n",
       "      <td>True</td>\n",
       "    </tr>\n",
       "  </tbody>\n",
       "</table>\n",
       "<p>17680 rows × 11 columns</p>\n",
       "</div>"
      ],
      "text/plain": [
       "       index        id                 name  est_diameter_min  \\\n",
       "0      89053  54245579           (2022 CN2)          0.009921   \n",
       "1      36449   3787087           (2017 UD1)          0.029144   \n",
       "2       5911  54169408           (2021 NT5)          0.010013   \n",
       "3      19531   3843342            (2019 ON)          0.024241   \n",
       "4      36937   3588018           (2011 WR2)          0.023150   \n",
       "...      ...       ...                  ...               ...   \n",
       "17675  69459   3731242         (2015 TD323)          0.277048   \n",
       "17676  81226   3752785          (2016 FG60)          0.152952   \n",
       "17677  66825   3714454         (2015 FS117)          0.110804   \n",
       "17678  69426   3449591           (2009 EP2)          0.127220   \n",
       "17679  12366   2103067  103067 (1999 XA143)          1.160259   \n",
       "\n",
       "       est_diameter_max  relative_velocity  miss_distance orbiting_body  \\\n",
       "0              0.022184       58837.876198   3.141432e+06         Earth   \n",
       "1              0.065169       43891.232645   1.185666e+07         Earth   \n",
       "2              0.022389       27949.425188   6.588638e+07         Earth   \n",
       "3              0.054205       60371.077559   6.592943e+07         Earth   \n",
       "4              0.051765       45015.029173   7.489281e+06         Earth   \n",
       "...                 ...                ...            ...           ...   \n",
       "17675          0.619498       99592.214813   2.463266e+07         Earth   \n",
       "17676          0.342011       74480.171690   6.752498e+07         Earth   \n",
       "17677          0.247765       53579.441172   4.083238e+07         Earth   \n",
       "17678          0.284472       71706.156946   4.606436e+07         Earth   \n",
       "17679          2.594418       88241.710018   4.170507e+07         Earth   \n",
       "\n",
       "       sentry_object  absolute_magnitude  hazardous  \n",
       "0              False               27.14      False  \n",
       "1              False               24.80      False  \n",
       "2              False               27.12      False  \n",
       "3              False               25.20      False  \n",
       "4              False               25.30      False  \n",
       "...              ...                 ...        ...  \n",
       "17675          False               19.91       True  \n",
       "17676          False               21.20       True  \n",
       "17677          False               21.90       True  \n",
       "17678          False               21.60       True  \n",
       "17679          False               16.80       True  \n",
       "\n",
       "[17680 rows x 11 columns]"
      ]
     },
     "execution_count": 771,
     "metadata": {},
     "output_type": "execute_result"
    }
   ],
   "source": [
    "df_downsampled"
   ]
  },
  {
   "cell_type": "code",
   "execution_count": 772,
   "id": "32df7860",
   "metadata": {},
   "outputs": [
    {
     "data": {
      "text/plain": [
       "False    0.902682\n",
       "True     0.097318\n",
       "Name: hazardous, dtype: float64"
      ]
     },
     "execution_count": 772,
     "metadata": {},
     "output_type": "execute_result"
    }
   ],
   "source": [
    "df.hazardous.value_counts(normalize=True)"
   ]
  },
  {
   "cell_type": "code",
   "execution_count": 773,
   "id": "d88ea7cd",
   "metadata": {},
   "outputs": [
    {
     "name": "stdout",
     "output_type": "stream",
     "text": [
      "False    8840\n",
      "True     8840\n",
      "Name: hazardous, dtype: int64\n"
     ]
    },
    {
     "name": "stderr",
     "output_type": "stream",
     "text": [
      "C:\\Users\\valer\\anaconda3\\lib\\site-packages\\seaborn\\_decorators.py:36: FutureWarning: Pass the following variable as a keyword arg: x. From version 0.12, the only valid positional argument will be `data`, and passing other arguments without an explicit keyword will result in an error or misinterpretation.\n",
      "  warnings.warn(\n"
     ]
    },
    {
     "data": {
      "image/png": "[encoded data removed]",
      "text/plain": [
       "<Figure size 432x288 with 1 Axes>"
      ]
     },
     "metadata": {
      "needs_background": "light"
     },
     "output_type": "display_data"
    }
   ],
   "source": [
    "print(df_downsampled['hazardous'].value_counts())\n",
    "sns.countplot(df_downsampled['hazardous'])\n",
    "plt.show()"
   ]
  },
  {
   "cell_type": "code",
   "execution_count": 774,
   "id": "80fc3b8c",
   "metadata": {},
   "outputs": [],
   "source": [
    "df_downsampled.drop(['id','name','sentry_object','orbiting_body'],axis=1,inplace=True)"
   ]
  },
  {
   "cell_type": "code",
   "execution_count": 775,
   "id": "4be2eb03",
   "metadata": {},
   "outputs": [
    {
     "data": {
      "text/plain": [
       "<AxesSubplot:>"
      ]
     },
     "execution_count": 775,
     "metadata": {},
     "output_type": "execute_result"
    },
    {
     "data": {
      "image/png": "[encoded data removed]",
      "text/plain": [
       "<Figure size 432x288 with 2 Axes>"
      ]
     },
     "metadata": {
      "needs_background": "light"
     },
     "output_type": "display_data"
    }
   ],
   "source": [
    "sns.heatmap(df_downsampled.corr(),annot=True,cmap=\"YlGnBu\")"
   ]
  },
  {
   "cell_type": "code",
   "execution_count": 776,
   "id": "5aabde37",
   "metadata": {},
   "outputs": [
    {
     "data": {
      "text/html": [
       "<div>\n",
       "<style scoped>\n",
       "    .dataframe tbody tr th:only-of-type {\n",
       "        vertical-align: middle;\n",
       "    }\n",
       "\n",
       "    .dataframe tbody tr th {\n",
       "        vertical-align: top;\n",
       "    }\n",
       "\n",
       "    .dataframe thead th {\n",
       "        text-align: right;\n",
       "    }\n",
       "</style>\n",
       "<table border=\"1\" class=\"dataframe\">\n",
       "  <thead>\n",
       "    <tr style=\"text-align: right;\">\n",
       "      <th></th>\n",
       "      <th>index</th>\n",
       "      <th>est_diameter_min</th>\n",
       "      <th>est_diameter_max</th>\n",
       "      <th>relative_velocity</th>\n",
       "      <th>miss_distance</th>\n",
       "      <th>absolute_magnitude</th>\n",
       "      <th>hazardous</th>\n",
       "    </tr>\n",
       "  </thead>\n",
       "  <tbody>\n",
       "    <tr>\n",
       "      <th>0</th>\n",
       "      <td>89053</td>\n",
       "      <td>0.009921</td>\n",
       "      <td>0.022184</td>\n",
       "      <td>58837.876198</td>\n",
       "      <td>3.141432e+06</td>\n",
       "      <td>27.14</td>\n",
       "      <td>0</td>\n",
       "    </tr>\n",
       "    <tr>\n",
       "      <th>1</th>\n",
       "      <td>36449</td>\n",
       "      <td>0.029144</td>\n",
       "      <td>0.065169</td>\n",
       "      <td>43891.232645</td>\n",
       "      <td>1.185666e+07</td>\n",
       "      <td>24.80</td>\n",
       "      <td>0</td>\n",
       "    </tr>\n",
       "    <tr>\n",
       "      <th>2</th>\n",
       "      <td>5911</td>\n",
       "      <td>0.010013</td>\n",
       "      <td>0.022389</td>\n",
       "      <td>27949.425188</td>\n",
       "      <td>6.588638e+07</td>\n",
       "      <td>27.12</td>\n",
       "      <td>0</td>\n",
       "    </tr>\n",
       "    <tr>\n",
       "      <th>3</th>\n",
       "      <td>19531</td>\n",
       "      <td>0.024241</td>\n",
       "      <td>0.054205</td>\n",
       "      <td>60371.077559</td>\n",
       "      <td>6.592943e+07</td>\n",
       "      <td>25.20</td>\n",
       "      <td>0</td>\n",
       "    </tr>\n",
       "    <tr>\n",
       "      <th>4</th>\n",
       "      <td>36937</td>\n",
       "      <td>0.023150</td>\n",
       "      <td>0.051765</td>\n",
       "      <td>45015.029173</td>\n",
       "      <td>7.489281e+06</td>\n",
       "      <td>25.30</td>\n",
       "      <td>0</td>\n",
       "    </tr>\n",
       "  </tbody>\n",
       "</table>\n",
       "</div>"
      ],
      "text/plain": [
       "   index  est_diameter_min  est_diameter_max  relative_velocity  \\\n",
       "0  89053          0.009921          0.022184       58837.876198   \n",
       "1  36449          0.029144          0.065169       43891.232645   \n",
       "2   5911          0.010013          0.022389       27949.425188   \n",
       "3  19531          0.024241          0.054205       60371.077559   \n",
       "4  36937          0.023150          0.051765       45015.029173   \n",
       "\n",
       "   miss_distance  absolute_magnitude  hazardous  \n",
       "0   3.141432e+06               27.14          0  \n",
       "1   1.185666e+07               24.80          0  \n",
       "2   6.588638e+07               27.12          0  \n",
       "3   6.592943e+07               25.20          0  \n",
       "4   7.489281e+06               25.30          0  "
      ]
     },
     "execution_count": 776,
     "metadata": {},
     "output_type": "execute_result"
    }
   ],
   "source": [
    "df_downsampled['hazardous'] = df_downsampled['hazardous'].apply(lambda x: 0 if x==False else 1)\n",
    "df_downsampled.head()"
   ]
  },
  {
   "cell_type": "code",
   "execution_count": 777,
   "id": "06b1c8bf",
   "metadata": {},
   "outputs": [],
   "source": [
    "fe=df_downsampled['est_diameter_max']-df_downsampled['est_diameter_min']"
   ]
  },
  {
   "cell_type": "code",
   "execution_count": 778,
   "id": "8f854feb",
   "metadata": {},
   "outputs": [],
   "source": [
    "df_downsampled.insert(4,'est_diameter_diff',fe)"
   ]
  },
  {
   "cell_type": "code",
   "execution_count": 779,
   "id": "1780d30a",
   "metadata": {},
   "outputs": [
    {
     "data": {
      "text/html": [
       "<div>\n",
       "<style scoped>\n",
       "    .dataframe tbody tr th:only-of-type {\n",
       "        vertical-align: middle;\n",
       "    }\n",
       "\n",
       "    .dataframe tbody tr th {\n",
       "        vertical-align: top;\n",
       "    }\n",
       "\n",
       "    .dataframe thead th {\n",
       "        text-align: right;\n",
       "    }\n",
       "</style>\n",
       "<table border=\"1\" class=\"dataframe\">\n",
       "  <thead>\n",
       "    <tr style=\"text-align: right;\">\n",
       "      <th></th>\n",
       "      <th>index</th>\n",
       "      <th>est_diameter_min</th>\n",
       "      <th>est_diameter_max</th>\n",
       "      <th>relative_velocity</th>\n",
       "      <th>est_diameter_diff</th>\n",
       "      <th>miss_distance</th>\n",
       "      <th>absolute_magnitude</th>\n",
       "      <th>hazardous</th>\n",
       "    </tr>\n",
       "  </thead>\n",
       "  <tbody>\n",
       "    <tr>\n",
       "      <th>0</th>\n",
       "      <td>89053</td>\n",
       "      <td>0.009921</td>\n",
       "      <td>0.022184</td>\n",
       "      <td>58837.876198</td>\n",
       "      <td>0.012263</td>\n",
       "      <td>3.141432e+06</td>\n",
       "      <td>27.14</td>\n",
       "      <td>0</td>\n",
       "    </tr>\n",
       "    <tr>\n",
       "      <th>1</th>\n",
       "      <td>36449</td>\n",
       "      <td>0.029144</td>\n",
       "      <td>0.065169</td>\n",
       "      <td>43891.232645</td>\n",
       "      <td>0.036024</td>\n",
       "      <td>1.185666e+07</td>\n",
       "      <td>24.80</td>\n",
       "      <td>0</td>\n",
       "    </tr>\n",
       "    <tr>\n",
       "      <th>2</th>\n",
       "      <td>5911</td>\n",
       "      <td>0.010013</td>\n",
       "      <td>0.022389</td>\n",
       "      <td>27949.425188</td>\n",
       "      <td>0.012376</td>\n",
       "      <td>6.588638e+07</td>\n",
       "      <td>27.12</td>\n",
       "      <td>0</td>\n",
       "    </tr>\n",
       "    <tr>\n",
       "      <th>3</th>\n",
       "      <td>19531</td>\n",
       "      <td>0.024241</td>\n",
       "      <td>0.054205</td>\n",
       "      <td>60371.077559</td>\n",
       "      <td>0.029964</td>\n",
       "      <td>6.592943e+07</td>\n",
       "      <td>25.20</td>\n",
       "      <td>0</td>\n",
       "    </tr>\n",
       "    <tr>\n",
       "      <th>4</th>\n",
       "      <td>36937</td>\n",
       "      <td>0.023150</td>\n",
       "      <td>0.051765</td>\n",
       "      <td>45015.029173</td>\n",
       "      <td>0.028615</td>\n",
       "      <td>7.489281e+06</td>\n",
       "      <td>25.30</td>\n",
       "      <td>0</td>\n",
       "    </tr>\n",
       "  </tbody>\n",
       "</table>\n",
       "</div>"
      ],
      "text/plain": [
       "   index  est_diameter_min  est_diameter_max  relative_velocity  \\\n",
       "0  89053          0.009921          0.022184       58837.876198   \n",
       "1  36449          0.029144          0.065169       43891.232645   \n",
       "2   5911          0.010013          0.022389       27949.425188   \n",
       "3  19531          0.024241          0.054205       60371.077559   \n",
       "4  36937          0.023150          0.051765       45015.029173   \n",
       "\n",
       "   est_diameter_diff  miss_distance  absolute_magnitude  hazardous  \n",
       "0           0.012263   3.141432e+06               27.14          0  \n",
       "1           0.036024   1.185666e+07               24.80          0  \n",
       "2           0.012376   6.588638e+07               27.12          0  \n",
       "3           0.029964   6.592943e+07               25.20          0  \n",
       "4           0.028615   7.489281e+06               25.30          0  "
      ]
     },
     "execution_count": 779,
     "metadata": {},
     "output_type": "execute_result"
    }
   ],
   "source": [
    "df_downsampled.head()"
   ]
  },
  {
   "cell_type": "code",
   "execution_count": null,
   "id": "6fe41300",
   "metadata": {},
   "outputs": [],
   "source": []
  },
  {
   "cell_type": "code",
   "execution_count": 780,
   "id": "ecebb005",
   "metadata": {},
   "outputs": [
    {
     "data": {
      "text/html": [
       "<div>\n",
       "<style scoped>\n",
       "    .dataframe tbody tr th:only-of-type {\n",
       "        vertical-align: middle;\n",
       "    }\n",
       "\n",
       "    .dataframe tbody tr th {\n",
       "        vertical-align: top;\n",
       "    }\n",
       "\n",
       "    .dataframe thead th {\n",
       "        text-align: right;\n",
       "    }\n",
       "</style>\n",
       "<table border=\"1\" class=\"dataframe\">\n",
       "  <thead>\n",
       "    <tr style=\"text-align: right;\">\n",
       "      <th></th>\n",
       "      <th>est_diameter_min</th>\n",
       "      <th>est_diameter_max</th>\n",
       "      <th>relative_velocity</th>\n",
       "      <th>est_diameter_diff</th>\n",
       "      <th>miss_distance</th>\n",
       "      <th>absolute_magnitude</th>\n",
       "    </tr>\n",
       "  </thead>\n",
       "  <tbody>\n",
       "    <tr>\n",
       "      <th>0</th>\n",
       "      <td>0.009921</td>\n",
       "      <td>0.022184</td>\n",
       "      <td>58837.876198</td>\n",
       "      <td>0.012263</td>\n",
       "      <td>3.141432e+06</td>\n",
       "      <td>27.14</td>\n",
       "    </tr>\n",
       "    <tr>\n",
       "      <th>1</th>\n",
       "      <td>0.029144</td>\n",
       "      <td>0.065169</td>\n",
       "      <td>43891.232645</td>\n",
       "      <td>0.036024</td>\n",
       "      <td>1.185666e+07</td>\n",
       "      <td>24.80</td>\n",
       "    </tr>\n",
       "    <tr>\n",
       "      <th>2</th>\n",
       "      <td>0.010013</td>\n",
       "      <td>0.022389</td>\n",
       "      <td>27949.425188</td>\n",
       "      <td>0.012376</td>\n",
       "      <td>6.588638e+07</td>\n",
       "      <td>27.12</td>\n",
       "    </tr>\n",
       "    <tr>\n",
       "      <th>3</th>\n",
       "      <td>0.024241</td>\n",
       "      <td>0.054205</td>\n",
       "      <td>60371.077559</td>\n",
       "      <td>0.029964</td>\n",
       "      <td>6.592943e+07</td>\n",
       "      <td>25.20</td>\n",
       "    </tr>\n",
       "    <tr>\n",
       "      <th>4</th>\n",
       "      <td>0.023150</td>\n",
       "      <td>0.051765</td>\n",
       "      <td>45015.029173</td>\n",
       "      <td>0.028615</td>\n",
       "      <td>7.489281e+06</td>\n",
       "      <td>25.30</td>\n",
       "    </tr>\n",
       "  </tbody>\n",
       "</table>\n",
       "</div>"
      ],
      "text/plain": [
       "   est_diameter_min  est_diameter_max  relative_velocity  est_diameter_diff  \\\n",
       "0          0.009921          0.022184       58837.876198           0.012263   \n",
       "1          0.029144          0.065169       43891.232645           0.036024   \n",
       "2          0.010013          0.022389       27949.425188           0.012376   \n",
       "3          0.024241          0.054205       60371.077559           0.029964   \n",
       "4          0.023150          0.051765       45015.029173           0.028615   \n",
       "\n",
       "   miss_distance  absolute_magnitude  \n",
       "0   3.141432e+06               27.14  \n",
       "1   1.185666e+07               24.80  \n",
       "2   6.588638e+07               27.12  \n",
       "3   6.592943e+07               25.20  \n",
       "4   7.489281e+06               25.30  "
      ]
     },
     "execution_count": 780,
     "metadata": {},
     "output_type": "execute_result"
    }
   ],
   "source": [
    "X=df_downsampled.iloc[:,1:-1]\n",
    "X.head()"
   ]
  },
  {
   "cell_type": "code",
   "execution_count": 781,
   "id": "572d5e29",
   "metadata": {},
   "outputs": [
    {
     "data": {
      "text/plain": [
       "0    0\n",
       "1    0\n",
       "2    0\n",
       "3    0\n",
       "4    0\n",
       "Name: hazardous, dtype: int64"
      ]
     },
     "execution_count": 781,
     "metadata": {},
     "output_type": "execute_result"
    }
   ],
   "source": [
    "y=df_downsampled.iloc[:,-1]\n",
    "y.head()"
   ]
  },
  {
   "cell_type": "code",
   "execution_count": 782,
   "id": "32efe5f9",
   "metadata": {},
   "outputs": [
    {
     "data": {
      "text/plain": [
       "0    8840\n",
       "1    8840\n",
       "Name: hazardous, dtype: int64"
      ]
     },
     "execution_count": 782,
     "metadata": {},
     "output_type": "execute_result"
    }
   ],
   "source": [
    "y.value_counts()"
   ]
  },
  {
   "cell_type": "code",
   "execution_count": 783,
   "id": "b93b9aea",
   "metadata": {},
   "outputs": [],
   "source": [
    "from sklearn.preprocessing import MinMaxScaler\n",
    "scaler = MinMaxScaler()\n",
    "X = scaler.fit_transform(X)"
   ]
  },
  {
   "cell_type": "code",
   "execution_count": 784,
   "id": "4dc22929",
   "metadata": {},
   "outputs": [],
   "source": [
    "X_train,x_test,Y_train,y_test=train_test_split(X, y,test_size=0.2)"
   ]
  },
  {
   "cell_type": "code",
   "execution_count": 785,
   "id": "33f95e0b",
   "metadata": {},
   "outputs": [],
   "source": [
    "rf = RandomForestClassifier()"
   ]
  },
  {
   "cell_type": "code",
   "execution_count": 786,
   "id": "13fe17aa",
   "metadata": {},
   "outputs": [],
   "source": [
    "from sklearn.pipeline import make_pipeline\n",
    "\n",
    "\n",
    "\n",
    "pipe = make_pipeline(rf)"
   ]
  },
  {
   "cell_type": "code",
   "execution_count": 787,
   "id": "99d0375c",
   "metadata": {},
   "outputs": [
    {
     "data": {
      "text/html": [
       "<style>#sk-container-id-32 {color: black;background-color: white;}#sk-container-id-32 pre{padding: 0;}#sk-container-id-32 div.sk-toggleable {background-color: white;}#sk-container-id-32 label.sk-toggleable__label {cursor: pointer;display: block;width: 100%;margin-bottom: 0;padding: 0.3em;box-sizing: border-box;text-align: center;}#sk-container-id-32 label.sk-toggleable__label-arrow:before {content: \"▸\";float: left;margin-right: 0.25em;color: #696969;}#sk-container-id-32 label.sk-toggleable__label-arrow:hover:before {color: black;}#sk-container-id-32 div.sk-estimator:hover label.sk-toggleable__label-arrow:before {color: black;}#sk-container-id-32 div.sk-toggleable__content {max-height: 0;max-width: 0;overflow: hidden;text-align: left;background-color: #f0f8ff;}#sk-container-id-32 div.sk-toggleable__content pre {margin: 0.2em;color: black;border-radius: 0.25em;background-color: #f0f8ff;}#sk-container-id-32 input.sk-toggleable__control:checked~div.sk-toggleable__content {max-height: 200px;max-width: 100%;overflow: auto;}#sk-container-id-32 input.sk-toggleable__control:checked~label.sk-toggleable__label-arrow:before {content: \"▾\";}#sk-container-id-32 div.sk-estimator input.sk-toggleable__control:checked~label.sk-toggleable__label {background-color: #d4ebff;}#sk-container-id-32 div.sk-label input.sk-toggleable__control:checked~label.sk-toggleable__label {background-color: #d4ebff;}#sk-container-id-32 input.sk-hidden--visually {border: 0;clip: rect(1px 1px 1px 1px);clip: rect(1px, 1px, 1px, 1px);height: 1px;margin: -1px;overflow: hidden;padding: 0;position: absolute;width: 1px;}#sk-container-id-32 div.sk-estimator {font-family: monospace;background-color: #f0f8ff;border: 1px dotted black;border-radius: 0.25em;box-sizing: border-box;margin-bottom: 0.5em;}#sk-container-id-32 div.sk-estimator:hover {background-color: #d4ebff;}#sk-container-id-32 div.sk-parallel-item::after {content: \"\";width: 100%;border-bottom: 1px solid gray;flex-grow: 1;}#sk-container-id-32 div.sk-label:hover label.sk-toggleable__label {background-color: #d4ebff;}#sk-container-id-32 div.sk-serial::before {content: \"\";position: absolute;border-left: 1px solid gray;box-sizing: border-box;top: 0;bottom: 0;left: 50%;z-index: 0;}#sk-container-id-32 div.sk-serial {display: flex;flex-direction: column;align-items: center;background-color: white;padding-right: 0.2em;padding-left: 0.2em;position: relative;}#sk-container-id-32 div.sk-item {position: relative;z-index: 1;}#sk-container-id-32 div.sk-parallel {display: flex;align-items: stretch;justify-content: center;background-color: white;position: relative;}#sk-container-id-32 div.sk-item::before, #sk-container-id-32 div.sk-parallel-item::before {content: \"\";position: absolute;border-left: 1px solid gray;box-sizing: border-box;top: 0;bottom: 0;left: 50%;z-index: -1;}#sk-container-id-32 div.sk-parallel-item {display: flex;flex-direction: column;z-index: 1;position: relative;background-color: white;}#sk-container-id-32 div.sk-parallel-item:first-child::after {align-self: flex-end;width: 50%;}#sk-container-id-32 div.sk-parallel-item:last-child::after {align-self: flex-start;width: 50%;}#sk-container-id-32 div.sk-parallel-item:only-child::after {width: 0;}#sk-container-id-32 div.sk-dashed-wrapped {border: 1px dashed gray;margin: 0 0.4em 0.5em 0.4em;box-sizing: border-box;padding-bottom: 0.4em;background-color: white;}#sk-container-id-32 div.sk-label label {font-family: monospace;font-weight: bold;display: inline-block;line-height: 1.2em;}#sk-container-id-32 div.sk-label-container {text-align: center;}#sk-container-id-32 div.sk-container {/* jupyter's `normalize.less` sets `[hidden] { display: none; }` but bootstrap.min.css set `[hidden] { display: none !important; }` so we also need the `!important` here to be able to override the default hidden behavior on the sphinx rendered scikit-learn.org. See: https://github.com/scikit-learn/scikit-learn/issues/21755 */display: inline-block !important;position: relative;}#sk-container-id-32 div.sk-text-repr-fallback {display: none;}</style><div id=\"sk-container-id-32\" class=\"sk-top-container\"><div class=\"sk-text-repr-fallback\"><pre>Pipeline(steps=[(&#x27;randomforestclassifier&#x27;, RandomForestClassifier())])</pre><b>In a Jupyter environment, please rerun this cell to show the HTML representation or trust the notebook. <br />On GitHub, the HTML representation is unable to render, please try loading this page with nbviewer.org.</b></div><div class=\"sk-container\" hidden><div class=\"sk-item sk-dashed-wrapped\"><div class=\"sk-label-container\"><div class=\"sk-label sk-toggleable\"><input class=\"sk-toggleable__control sk-hidden--visually\" id=\"sk-estimator-id-67\" type=\"checkbox\" ><label for=\"sk-estimator-id-67\" class=\"sk-toggleable__label sk-toggleable__label-arrow\">Pipeline</label><div class=\"sk-toggleable__content\"><pre>Pipeline(steps=[(&#x27;randomforestclassifier&#x27;, RandomForestClassifier())])</pre></div></div></div><div class=\"sk-serial\"><div class=\"sk-item\"><div class=\"sk-estimator sk-toggleable\"><input class=\"sk-toggleable__control sk-hidden--visually\" id=\"sk-estimator-id-68\" type=\"checkbox\" ><label for=\"sk-estimator-id-68\" class=\"sk-toggleable__label sk-toggleable__label-arrow\">RandomForestClassifier</label><div class=\"sk-toggleable__content\"><pre>RandomForestClassifier()</pre></div></div></div></div></div></div></div>"
      ],
      "text/plain": [
       "Pipeline(steps=[('randomforestclassifier', RandomForestClassifier())])"
      ]
     },
     "execution_count": 787,
     "metadata": {},
     "output_type": "execute_result"
    }
   ],
   "source": [
    "pipe.fit(X_train, Y_train)"
   ]
  },
  {
   "cell_type": "code",
   "execution_count": 788,
   "id": "b0fa8034",
   "metadata": {},
   "outputs": [
    {
     "name": "stdout",
     "output_type": "stream",
     "text": [
      "              precision    recall  f1-score   support\n",
      "\n",
      "           0       0.92      0.80      0.85      1753\n",
      "           1       0.82      0.93      0.87      1783\n",
      "\n",
      "    accuracy                           0.86      3536\n",
      "   macro avg       0.87      0.86      0.86      3536\n",
      "weighted avg       0.87      0.86      0.86      3536\n",
      "\n"
     ]
    }
   ],
   "source": [
    "predictions = pipe.predict(x_test)\n",
    "print(classification_report(y_test, predictions))"
   ]
  },
  {
   "cell_type": "code",
   "execution_count": null,
   "id": "771fcdba",
   "metadata": {},
   "outputs": [],
   "source": []
  },
  {
   "cell_type": "markdown",
   "id": "076a53f7",
   "metadata": {},
   "source": [
    "### Grid search"
   ]
  },
  {
   "cell_type": "code",
   "execution_count": 789,
   "id": "a4343b6e",
   "metadata": {},
   "outputs": [],
   "source": [
    "from sklearn.model_selection import GridSearchCV as grid"
   ]
  },
  {
   "cell_type": "code",
   "execution_count": 790,
   "id": "725b21eb",
   "metadata": {},
   "outputs": [],
   "source": [
    "parameters = [{'randomforestclassifier__criterion': ['gini', 'entropy'],\n",
    "                'randomforestclassifier__min_samples_leaf': [5, 10, 20, 30, 50, 80, 100],\n",
    "                'randomforestclassifier__max_depth': [3, 4, 6, 8, 10],\n",
    "                'randomforestclassifier__min_samples_split': [2, 4, 6, 8, 10]}]"
   ]
  },
  {
   "cell_type": "code",
   "execution_count": 791,
   "id": "e6a3b8e0",
   "metadata": {},
   "outputs": [],
   "source": [
    "\n",
    "rf_gs = grid(pipe, parameters, cv=5, scoring='f1_macro', n_jobs=-1, verbose=1, refit=True)"
   ]
  },
  {
   "cell_type": "code",
   "execution_count": 792,
   "id": "79b3463c",
   "metadata": {},
   "outputs": [
    {
     "name": "stdout",
     "output_type": "stream",
     "text": [
      "Fitting 5 folds for each of 350 candidates, totalling 1750 fits\n"
     ]
    },
    {
     "data": {
      "text/html": [
       "<style>#sk-container-id-33 {color: black;background-color: white;}#sk-container-id-33 pre{padding: 0;}#sk-container-id-33 div.sk-toggleable {background-color: white;}#sk-container-id-33 label.sk-toggleable__label {cursor: pointer;display: block;width: 100%;margin-bottom: 0;padding: 0.3em;box-sizing: border-box;text-align: center;}#sk-container-id-33 label.sk-toggleable__label-arrow:before {content: \"▸\";float: left;margin-right: 0.25em;color: #696969;}#sk-container-id-33 label.sk-toggleable__label-arrow:hover:before {color: black;}#sk-container-id-33 div.sk-estimator:hover label.sk-toggleable__label-arrow:before {color: black;}#sk-container-id-33 div.sk-toggleable__content {max-height: 0;max-width: 0;overflow: hidden;text-align: left;background-color: #f0f8ff;}#sk-container-id-33 div.sk-toggleable__content pre {margin: 0.2em;color: black;border-radius: 0.25em;background-color: #f0f8ff;}#sk-container-id-33 input.sk-toggleable__control:checked~div.sk-toggleable__content {max-height: 200px;max-width: 100%;overflow: auto;}#sk-container-id-33 input.sk-toggleable__control:checked~label.sk-toggleable__label-arrow:before {content: \"▾\";}#sk-container-id-33 div.sk-estimator input.sk-toggleable__control:checked~label.sk-toggleable__label {background-color: #d4ebff;}#sk-container-id-33 div.sk-label input.sk-toggleable__control:checked~label.sk-toggleable__label {background-color: #d4ebff;}#sk-container-id-33 input.sk-hidden--visually {border: 0;clip: rect(1px 1px 1px 1px);clip: rect(1px, 1px, 1px, 1px);height: 1px;margin: -1px;overflow: hidden;padding: 0;position: absolute;width: 1px;}#sk-container-id-33 div.sk-estimator {font-family: monospace;background-color: #f0f8ff;border: 1px dotted black;border-radius: 0.25em;box-sizing: border-box;margin-bottom: 0.5em;}#sk-container-id-33 div.sk-estimator:hover {background-color: #d4ebff;}#sk-container-id-33 div.sk-parallel-item::after {content: \"\";width: 100%;border-bottom: 1px solid gray;flex-grow: 1;}#sk-container-id-33 div.sk-label:hover label.sk-toggleable__label {background-color: #d4ebff;}#sk-container-id-33 div.sk-serial::before {content: \"\";position: absolute;border-left: 1px solid gray;box-sizing: border-box;top: 0;bottom: 0;left: 50%;z-index: 0;}#sk-container-id-33 div.sk-serial {display: flex;flex-direction: column;align-items: center;background-color: white;padding-right: 0.2em;padding-left: 0.2em;position: relative;}#sk-container-id-33 div.sk-item {position: relative;z-index: 1;}#sk-container-id-33 div.sk-parallel {display: flex;align-items: stretch;justify-content: center;background-color: white;position: relative;}#sk-container-id-33 div.sk-item::before, #sk-container-id-33 div.sk-parallel-item::before {content: \"\";position: absolute;border-left: 1px solid gray;box-sizing: border-box;top: 0;bottom: 0;left: 50%;z-index: -1;}#sk-container-id-33 div.sk-parallel-item {display: flex;flex-direction: column;z-index: 1;position: relative;background-color: white;}#sk-container-id-33 div.sk-parallel-item:first-child::after {align-self: flex-end;width: 50%;}#sk-container-id-33 div.sk-parallel-item:last-child::after {align-self: flex-start;width: 50%;}#sk-container-id-33 div.sk-parallel-item:only-child::after {width: 0;}#sk-container-id-33 div.sk-dashed-wrapped {border: 1px dashed gray;margin: 0 0.4em 0.5em 0.4em;box-sizing: border-box;padding-bottom: 0.4em;background-color: white;}#sk-container-id-33 div.sk-label label {font-family: monospace;font-weight: bold;display: inline-block;line-height: 1.2em;}#sk-container-id-33 div.sk-label-container {text-align: center;}#sk-container-id-33 div.sk-container {/* jupyter's `normalize.less` sets `[hidden] { display: none; }` but bootstrap.min.css set `[hidden] { display: none !important; }` so we also need the `!important` here to be able to override the default hidden behavior on the sphinx rendered scikit-learn.org. See: https://github.com/scikit-learn/scikit-learn/issues/21755 */display: inline-block !important;position: relative;}#sk-container-id-33 div.sk-text-repr-fallback {display: none;}</style><div id=\"sk-container-id-33\" class=\"sk-top-container\"><div class=\"sk-text-repr-fallback\"><pre>GridSearchCV(cv=5,\n",
       "             estimator=Pipeline(steps=[(&#x27;randomforestclassifier&#x27;,\n",
       "                                        RandomForestClassifier())]),\n",
       "             n_jobs=-1,\n",
       "             param_grid=[{&#x27;randomforestclassifier__criterion&#x27;: [&#x27;gini&#x27;,\n",
       "                                                                &#x27;entropy&#x27;],\n",
       "                          &#x27;randomforestclassifier__max_depth&#x27;: [3, 4, 6, 8, 10],\n",
       "                          &#x27;randomforestclassifier__min_samples_leaf&#x27;: [5, 10,\n",
       "                                                                       20, 30,\n",
       "                                                                       50, 80,\n",
       "                                                                       100],\n",
       "                          &#x27;randomforestclassifier__min_samples_split&#x27;: [2, 4, 6,\n",
       "                                                                        8,\n",
       "                                                                        10]}],\n",
       "             scoring=&#x27;f1_macro&#x27;, verbose=1)</pre><b>In a Jupyter environment, please rerun this cell to show the HTML representation or trust the notebook. <br />On GitHub, the HTML representation is unable to render, please try loading this page with nbviewer.org.</b></div><div class=\"sk-container\" hidden><div class=\"sk-item sk-dashed-wrapped\"><div class=\"sk-label-container\"><div class=\"sk-label sk-toggleable\"><input class=\"sk-toggleable__control sk-hidden--visually\" id=\"sk-estimator-id-69\" type=\"checkbox\" ><label for=\"sk-estimator-id-69\" class=\"sk-toggleable__label sk-toggleable__label-arrow\">GridSearchCV</label><div class=\"sk-toggleable__content\"><pre>GridSearchCV(cv=5,\n",
       "             estimator=Pipeline(steps=[(&#x27;randomforestclassifier&#x27;,\n",
       "                                        RandomForestClassifier())]),\n",
       "             n_jobs=-1,\n",
       "             param_grid=[{&#x27;randomforestclassifier__criterion&#x27;: [&#x27;gini&#x27;,\n",
       "                                                                &#x27;entropy&#x27;],\n",
       "                          &#x27;randomforestclassifier__max_depth&#x27;: [3, 4, 6, 8, 10],\n",
       "                          &#x27;randomforestclassifier__min_samples_leaf&#x27;: [5, 10,\n",
       "                                                                       20, 30,\n",
       "                                                                       50, 80,\n",
       "                                                                       100],\n",
       "                          &#x27;randomforestclassifier__min_samples_split&#x27;: [2, 4, 6,\n",
       "                                                                        8,\n",
       "                                                                        10]}],\n",
       "             scoring=&#x27;f1_macro&#x27;, verbose=1)</pre></div></div></div><div class=\"sk-parallel\"><div class=\"sk-parallel-item\"><div class=\"sk-item\"><div class=\"sk-label-container\"><div class=\"sk-label sk-toggleable\"><input class=\"sk-toggleable__control sk-hidden--visually\" id=\"sk-estimator-id-70\" type=\"checkbox\" ><label for=\"sk-estimator-id-70\" class=\"sk-toggleable__label sk-toggleable__label-arrow\">estimator: Pipeline</label><div class=\"sk-toggleable__content\"><pre>Pipeline(steps=[(&#x27;randomforestclassifier&#x27;, RandomForestClassifier())])</pre></div></div></div><div class=\"sk-serial\"><div class=\"sk-item\"><div class=\"sk-serial\"><div class=\"sk-item\"><div class=\"sk-estimator sk-toggleable\"><input class=\"sk-toggleable__control sk-hidden--visually\" id=\"sk-estimator-id-71\" type=\"checkbox\" ><label for=\"sk-estimator-id-71\" class=\"sk-toggleable__label sk-toggleable__label-arrow\">RandomForestClassifier</label><div class=\"sk-toggleable__content\"><pre>RandomForestClassifier()</pre></div></div></div></div></div></div></div></div></div></div></div></div>"
      ],
      "text/plain": [
       "GridSearchCV(cv=5,\n",
       "             estimator=Pipeline(steps=[('randomforestclassifier',\n",
       "                                        RandomForestClassifier())]),\n",
       "             n_jobs=-1,\n",
       "             param_grid=[{'randomforestclassifier__criterion': ['gini',\n",
       "                                                                'entropy'],\n",
       "                          'randomforestclassifier__max_depth': [3, 4, 6, 8, 10],\n",
       "                          'randomforestclassifier__min_samples_leaf': [5, 10,\n",
       "                                                                       20, 30,\n",
       "                                                                       50, 80,\n",
       "                                                                       100],\n",
       "                          'randomforestclassifier__min_samples_split': [2, 4, 6,\n",
       "                                                                        8,\n",
       "                                                                        10]}],\n",
       "             scoring='f1_macro', verbose=1)"
      ]
     },
     "execution_count": 792,
     "metadata": {},
     "output_type": "execute_result"
    }
   ],
   "source": [
    "rf_gs.fit(X_train, Y_train)"
   ]
  },
  {
   "cell_type": "code",
   "execution_count": 793,
   "id": "d055961f",
   "metadata": {},
   "outputs": [
    {
     "data": {
      "text/plain": [
       "0.8756218441451968"
      ]
     },
     "execution_count": 793,
     "metadata": {},
     "output_type": "execute_result"
    }
   ],
   "source": [
    "rf_gs.best_score_"
   ]
  },
  {
   "cell_type": "code",
   "execution_count": 795,
   "id": "3653f43e",
   "metadata": {},
   "outputs": [
    {
     "data": {
      "text/html": [
       "<style>#sk-container-id-35 {color: black;background-color: white;}#sk-container-id-35 pre{padding: 0;}#sk-container-id-35 div.sk-toggleable {background-color: white;}#sk-container-id-35 label.sk-toggleable__label {cursor: pointer;display: block;width: 100%;margin-bottom: 0;padding: 0.3em;box-sizing: border-box;text-align: center;}#sk-container-id-35 label.sk-toggleable__label-arrow:before {content: \"▸\";float: left;margin-right: 0.25em;color: #696969;}#sk-container-id-35 label.sk-toggleable__label-arrow:hover:before {color: black;}#sk-container-id-35 div.sk-estimator:hover label.sk-toggleable__label-arrow:before {color: black;}#sk-container-id-35 div.sk-toggleable__content {max-height: 0;max-width: 0;overflow: hidden;text-align: left;background-color: #f0f8ff;}#sk-container-id-35 div.sk-toggleable__content pre {margin: 0.2em;color: black;border-radius: 0.25em;background-color: #f0f8ff;}#sk-container-id-35 input.sk-toggleable__control:checked~div.sk-toggleable__content {max-height: 200px;max-width: 100%;overflow: auto;}#sk-container-id-35 input.sk-toggleable__control:checked~label.sk-toggleable__label-arrow:before {content: \"▾\";}#sk-container-id-35 div.sk-estimator input.sk-toggleable__control:checked~label.sk-toggleable__label {background-color: #d4ebff;}#sk-container-id-35 div.sk-label input.sk-toggleable__control:checked~label.sk-toggleable__label {background-color: #d4ebff;}#sk-container-id-35 input.sk-hidden--visually {border: 0;clip: rect(1px 1px 1px 1px);clip: rect(1px, 1px, 1px, 1px);height: 1px;margin: -1px;overflow: hidden;padding: 0;position: absolute;width: 1px;}#sk-container-id-35 div.sk-estimator {font-family: monospace;background-color: #f0f8ff;border: 1px dotted black;border-radius: 0.25em;box-sizing: border-box;margin-bottom: 0.5em;}#sk-container-id-35 div.sk-estimator:hover {background-color: #d4ebff;}#sk-container-id-35 div.sk-parallel-item::after {content: \"\";width: 100%;border-bottom: 1px solid gray;flex-grow: 1;}#sk-container-id-35 div.sk-label:hover label.sk-toggleable__label {background-color: #d4ebff;}#sk-container-id-35 div.sk-serial::before {content: \"\";position: absolute;border-left: 1px solid gray;box-sizing: border-box;top: 0;bottom: 0;left: 50%;z-index: 0;}#sk-container-id-35 div.sk-serial {display: flex;flex-direction: column;align-items: center;background-color: white;padding-right: 0.2em;padding-left: 0.2em;position: relative;}#sk-container-id-35 div.sk-item {position: relative;z-index: 1;}#sk-container-id-35 div.sk-parallel {display: flex;align-items: stretch;justify-content: center;background-color: white;position: relative;}#sk-container-id-35 div.sk-item::before, #sk-container-id-35 div.sk-parallel-item::before {content: \"\";position: absolute;border-left: 1px solid gray;box-sizing: border-box;top: 0;bottom: 0;left: 50%;z-index: -1;}#sk-container-id-35 div.sk-parallel-item {display: flex;flex-direction: column;z-index: 1;position: relative;background-color: white;}#sk-container-id-35 div.sk-parallel-item:first-child::after {align-self: flex-end;width: 50%;}#sk-container-id-35 div.sk-parallel-item:last-child::after {align-self: flex-start;width: 50%;}#sk-container-id-35 div.sk-parallel-item:only-child::after {width: 0;}#sk-container-id-35 div.sk-dashed-wrapped {border: 1px dashed gray;margin: 0 0.4em 0.5em 0.4em;box-sizing: border-box;padding-bottom: 0.4em;background-color: white;}#sk-container-id-35 div.sk-label label {font-family: monospace;font-weight: bold;display: inline-block;line-height: 1.2em;}#sk-container-id-35 div.sk-label-container {text-align: center;}#sk-container-id-35 div.sk-container {/* jupyter's `normalize.less` sets `[hidden] { display: none; }` but bootstrap.min.css set `[hidden] { display: none !important; }` so we also need the `!important` here to be able to override the default hidden behavior on the sphinx rendered scikit-learn.org. See: https://github.com/scikit-learn/scikit-learn/issues/21755 */display: inline-block !important;position: relative;}#sk-container-id-35 div.sk-text-repr-fallback {display: none;}</style><div id=\"sk-container-id-35\" class=\"sk-top-container\"><div class=\"sk-text-repr-fallback\"><pre>Pipeline(steps=[(&#x27;randomforestclassifier&#x27;,\n",
       "                 RandomForestClassifier(max_depth=10, min_samples_leaf=5,\n",
       "                                        min_samples_split=6))])</pre><b>In a Jupyter environment, please rerun this cell to show the HTML representation or trust the notebook. <br />On GitHub, the HTML representation is unable to render, please try loading this page with nbviewer.org.</b></div><div class=\"sk-container\" hidden><div class=\"sk-item sk-dashed-wrapped\"><div class=\"sk-label-container\"><div class=\"sk-label sk-toggleable\"><input class=\"sk-toggleable__control sk-hidden--visually\" id=\"sk-estimator-id-74\" type=\"checkbox\" ><label for=\"sk-estimator-id-74\" class=\"sk-toggleable__label sk-toggleable__label-arrow\">Pipeline</label><div class=\"sk-toggleable__content\"><pre>Pipeline(steps=[(&#x27;randomforestclassifier&#x27;,\n",
       "                 RandomForestClassifier(max_depth=10, min_samples_leaf=5,\n",
       "                                        min_samples_split=6))])</pre></div></div></div><div class=\"sk-serial\"><div class=\"sk-item\"><div class=\"sk-estimator sk-toggleable\"><input class=\"sk-toggleable__control sk-hidden--visually\" id=\"sk-estimator-id-75\" type=\"checkbox\" ><label for=\"sk-estimator-id-75\" class=\"sk-toggleable__label sk-toggleable__label-arrow\">RandomForestClassifier</label><div class=\"sk-toggleable__content\"><pre>RandomForestClassifier(max_depth=10, min_samples_leaf=5, min_samples_split=6)</pre></div></div></div></div></div></div></div>"
      ],
      "text/plain": [
       "Pipeline(steps=[('randomforestclassifier',\n",
       "                 RandomForestClassifier(max_depth=10, min_samples_leaf=5,\n",
       "                                        min_samples_split=6))])"
      ]
     },
     "execution_count": 795,
     "metadata": {},
     "output_type": "execute_result"
    }
   ],
   "source": [
    "rf_gs.best_estimator_"
   ]
  },
  {
   "cell_type": "code",
   "execution_count": 796,
   "id": "0a975f38",
   "metadata": {},
   "outputs": [
    {
     "name": "stdout",
     "output_type": "stream",
     "text": [
      "              precision    recall  f1-score   support\n",
      "\n",
      "           0       0.98      0.76      0.86      1753\n",
      "           1       0.81      0.99      0.89      1783\n",
      "\n",
      "    accuracy                           0.87      3536\n",
      "   macro avg       0.89      0.87      0.87      3536\n",
      "weighted avg       0.89      0.87      0.87      3536\n",
      "\n"
     ]
    }
   ],
   "source": [
    "predictions = rf_gs.predict(x_test)\n",
    "print(classification_report(y_test, predictions))"
   ]
  },
  {
   "cell_type": "code",
   "execution_count": 797,
   "id": "5eeac7f3",
   "metadata": {},
   "outputs": [],
   "source": [
    "results = pd.DataFrame(rf_gs.cv_results_)"
   ]
  },
  {
   "cell_type": "code",
   "execution_count": 798,
   "id": "1d66dfcf",
   "metadata": {},
   "outputs": [
    {
     "data": {
      "text/html": [
       "<div>\n",
       "<style scoped>\n",
       "    .dataframe tbody tr th:only-of-type {\n",
       "        vertical-align: middle;\n",
       "    }\n",
       "\n",
       "    .dataframe tbody tr th {\n",
       "        vertical-align: top;\n",
       "    }\n",
       "\n",
       "    .dataframe thead th {\n",
       "        text-align: right;\n",
       "    }\n",
       "</style>\n",
       "<table border=\"1\" class=\"dataframe\">\n",
       "  <thead>\n",
       "    <tr style=\"text-align: right;\">\n",
       "      <th></th>\n",
       "      <th>mean_fit_time</th>\n",
       "      <th>std_fit_time</th>\n",
       "      <th>mean_score_time</th>\n",
       "      <th>std_score_time</th>\n",
       "      <th>param_randomforestclassifier__criterion</th>\n",
       "      <th>param_randomforestclassifier__max_depth</th>\n",
       "      <th>param_randomforestclassifier__min_samples_leaf</th>\n",
       "      <th>param_randomforestclassifier__min_samples_split</th>\n",
       "      <th>params</th>\n",
       "      <th>split0_test_score</th>\n",
       "      <th>split1_test_score</th>\n",
       "      <th>split2_test_score</th>\n",
       "      <th>split3_test_score</th>\n",
       "      <th>split4_test_score</th>\n",
       "      <th>mean_test_score</th>\n",
       "      <th>std_test_score</th>\n",
       "      <th>rank_test_score</th>\n",
       "    </tr>\n",
       "  </thead>\n",
       "  <tbody>\n",
       "    <tr>\n",
       "      <th>0</th>\n",
       "      <td>0.796928</td>\n",
       "      <td>0.013977</td>\n",
       "      <td>0.034378</td>\n",
       "      <td>0.006250</td>\n",
       "      <td>gini</td>\n",
       "      <td>3</td>\n",
       "      <td>5</td>\n",
       "      <td>2</td>\n",
       "      <td>{'randomforestclassifier__criterion': 'gini', ...</td>\n",
       "      <td>0.880182</td>\n",
       "      <td>0.874195</td>\n",
       "      <td>0.867978</td>\n",
       "      <td>0.866473</td>\n",
       "      <td>0.875796</td>\n",
       "      <td>0.872925</td>\n",
       "      <td>0.005072</td>\n",
       "      <td>221</td>\n",
       "    </tr>\n",
       "    <tr>\n",
       "      <th>1</th>\n",
       "      <td>0.790679</td>\n",
       "      <td>0.012502</td>\n",
       "      <td>0.037500</td>\n",
       "      <td>0.007654</td>\n",
       "      <td>gini</td>\n",
       "      <td>3</td>\n",
       "      <td>5</td>\n",
       "      <td>4</td>\n",
       "      <td>{'randomforestclassifier__criterion': 'gini', ...</td>\n",
       "      <td>0.880200</td>\n",
       "      <td>0.874195</td>\n",
       "      <td>0.868718</td>\n",
       "      <td>0.866102</td>\n",
       "      <td>0.874673</td>\n",
       "      <td>0.872778</td>\n",
       "      <td>0.004934</td>\n",
       "      <td>227</td>\n",
       "    </tr>\n",
       "    <tr>\n",
       "      <th>2</th>\n",
       "      <td>0.759425</td>\n",
       "      <td>0.071677</td>\n",
       "      <td>0.031252</td>\n",
       "      <td>0.000001</td>\n",
       "      <td>gini</td>\n",
       "      <td>3</td>\n",
       "      <td>5</td>\n",
       "      <td>6</td>\n",
       "      <td>{'randomforestclassifier__criterion': 'gini', ...</td>\n",
       "      <td>0.879833</td>\n",
       "      <td>0.870870</td>\n",
       "      <td>0.867978</td>\n",
       "      <td>0.864989</td>\n",
       "      <td>0.874673</td>\n",
       "      <td>0.871669</td>\n",
       "      <td>0.005188</td>\n",
       "      <td>254</td>\n",
       "    </tr>\n",
       "    <tr>\n",
       "      <th>3</th>\n",
       "      <td>0.650042</td>\n",
       "      <td>0.071676</td>\n",
       "      <td>0.021877</td>\n",
       "      <td>0.007655</td>\n",
       "      <td>gini</td>\n",
       "      <td>3</td>\n",
       "      <td>5</td>\n",
       "      <td>8</td>\n",
       "      <td>{'randomforestclassifier__criterion': 'gini', ...</td>\n",
       "      <td>0.881336</td>\n",
       "      <td>0.870130</td>\n",
       "      <td>0.868348</td>\n",
       "      <td>0.867584</td>\n",
       "      <td>0.876532</td>\n",
       "      <td>0.872786</td>\n",
       "      <td>0.005309</td>\n",
       "      <td>225</td>\n",
       "    </tr>\n",
       "    <tr>\n",
       "      <th>4</th>\n",
       "      <td>0.543784</td>\n",
       "      <td>0.011693</td>\n",
       "      <td>0.025002</td>\n",
       "      <td>0.007655</td>\n",
       "      <td>gini</td>\n",
       "      <td>3</td>\n",
       "      <td>5</td>\n",
       "      <td>10</td>\n",
       "      <td>{'randomforestclassifier__criterion': 'gini', ...</td>\n",
       "      <td>0.881667</td>\n",
       "      <td>0.870130</td>\n",
       "      <td>0.868348</td>\n",
       "      <td>0.866473</td>\n",
       "      <td>0.876532</td>\n",
       "      <td>0.872630</td>\n",
       "      <td>0.005646</td>\n",
       "      <td>234</td>\n",
       "    </tr>\n",
       "  </tbody>\n",
       "</table>\n",
       "</div>"
      ],
      "text/plain": [
       "   mean_fit_time  std_fit_time  mean_score_time  std_score_time  \\\n",
       "0       0.796928      0.013977         0.034378        0.006250   \n",
       "1       0.790679      0.012502         0.037500        0.007654   \n",
       "2       0.759425      0.071677         0.031252        0.000001   \n",
       "3       0.650042      0.071676         0.021877        0.007655   \n",
       "4       0.543784      0.011693         0.025002        0.007655   \n",
       "\n",
       "  param_randomforestclassifier__criterion  \\\n",
       "0                                    gini   \n",
       "1                                    gini   \n",
       "2                                    gini   \n",
       "3                                    gini   \n",
       "4                                    gini   \n",
       "\n",
       "  param_randomforestclassifier__max_depth  \\\n",
       "0                                       3   \n",
       "1                                       3   \n",
       "2                                       3   \n",
       "3                                       3   \n",
       "4                                       3   \n",
       "\n",
       "  param_randomforestclassifier__min_samples_leaf  \\\n",
       "0                                              5   \n",
       "1                                              5   \n",
       "2                                              5   \n",
       "3                                              5   \n",
       "4                                              5   \n",
       "\n",
       "  param_randomforestclassifier__min_samples_split  \\\n",
       "0                                               2   \n",
       "1                                               4   \n",
       "2                                               6   \n",
       "3                                               8   \n",
       "4                                              10   \n",
       "\n",
       "                                              params  split0_test_score  \\\n",
       "0  {'randomforestclassifier__criterion': 'gini', ...           0.880182   \n",
       "1  {'randomforestclassifier__criterion': 'gini', ...           0.880200   \n",
       "2  {'randomforestclassifier__criterion': 'gini', ...           0.879833   \n",
       "3  {'randomforestclassifier__criterion': 'gini', ...           0.881336   \n",
       "4  {'randomforestclassifier__criterion': 'gini', ...           0.881667   \n",
       "\n",
       "   split1_test_score  split2_test_score  split3_test_score  split4_test_score  \\\n",
       "0           0.874195           0.867978           0.866473           0.875796   \n",
       "1           0.874195           0.868718           0.866102           0.874673   \n",
       "2           0.870870           0.867978           0.864989           0.874673   \n",
       "3           0.870130           0.868348           0.867584           0.876532   \n",
       "4           0.870130           0.868348           0.866473           0.876532   \n",
       "\n",
       "   mean_test_score  std_test_score  rank_test_score  \n",
       "0         0.872925        0.005072              221  \n",
       "1         0.872778        0.004934              227  \n",
       "2         0.871669        0.005188              254  \n",
       "3         0.872786        0.005309              225  \n",
       "4         0.872630        0.005646              234  "
      ]
     },
     "execution_count": 798,
     "metadata": {},
     "output_type": "execute_result"
    }
   ],
   "source": [
    "results.head()"
   ]
  },
  {
   "cell_type": "code",
   "execution_count": 799,
   "id": "ac83b6bf",
   "metadata": {},
   "outputs": [
    {
     "data": {
      "text/html": [
       "<div>\n",
       "<style scoped>\n",
       "    .dataframe tbody tr th:only-of-type {\n",
       "        vertical-align: middle;\n",
       "    }\n",
       "\n",
       "    .dataframe tbody tr th {\n",
       "        vertical-align: top;\n",
       "    }\n",
       "\n",
       "    .dataframe thead th {\n",
       "        text-align: right;\n",
       "    }\n",
       "</style>\n",
       "<table border=\"1\" class=\"dataframe\">\n",
       "  <thead>\n",
       "    <tr style=\"text-align: right;\">\n",
       "      <th></th>\n",
       "      <th>params</th>\n",
       "      <th>mean_test_score</th>\n",
       "    </tr>\n",
       "  </thead>\n",
       "  <tbody>\n",
       "    <tr>\n",
       "      <th>142</th>\n",
       "      <td>{'randomforestclassifier__criterion': 'gini', ...</td>\n",
       "      <td>0.875622</td>\n",
       "    </tr>\n",
       "    <tr>\n",
       "      <th>107</th>\n",
       "      <td>{'randomforestclassifier__criterion': 'gini', ...</td>\n",
       "      <td>0.875599</td>\n",
       "    </tr>\n",
       "    <tr>\n",
       "      <th>140</th>\n",
       "      <td>{'randomforestclassifier__criterion': 'gini', ...</td>\n",
       "      <td>0.875535</td>\n",
       "    </tr>\n",
       "    <tr>\n",
       "      <th>143</th>\n",
       "      <td>{'randomforestclassifier__criterion': 'gini', ...</td>\n",
       "      <td>0.875466</td>\n",
       "    </tr>\n",
       "    <tr>\n",
       "      <th>108</th>\n",
       "      <td>{'randomforestclassifier__criterion': 'gini', ...</td>\n",
       "      <td>0.875387</td>\n",
       "    </tr>\n",
       "    <tr>\n",
       "      <th>...</th>\n",
       "      <td>...</td>\n",
       "      <td>...</td>\n",
       "    </tr>\n",
       "    <tr>\n",
       "      <th>206</th>\n",
       "      <td>{'randomforestclassifier__criterion': 'entropy...</td>\n",
       "      <td>0.869091</td>\n",
       "    </tr>\n",
       "    <tr>\n",
       "      <th>207</th>\n",
       "      <td>{'randomforestclassifier__criterion': 'entropy...</td>\n",
       "      <td>0.869025</td>\n",
       "    </tr>\n",
       "    <tr>\n",
       "      <th>208</th>\n",
       "      <td>{'randomforestclassifier__criterion': 'entropy...</td>\n",
       "      <td>0.868863</td>\n",
       "    </tr>\n",
       "    <tr>\n",
       "      <th>209</th>\n",
       "      <td>{'randomforestclassifier__criterion': 'entropy...</td>\n",
       "      <td>0.868411</td>\n",
       "    </tr>\n",
       "    <tr>\n",
       "      <th>205</th>\n",
       "      <td>{'randomforestclassifier__criterion': 'entropy...</td>\n",
       "      <td>0.868041</td>\n",
       "    </tr>\n",
       "  </tbody>\n",
       "</table>\n",
       "<p>350 rows × 2 columns</p>\n",
       "</div>"
      ],
      "text/plain": [
       "                                                params  mean_test_score\n",
       "142  {'randomforestclassifier__criterion': 'gini', ...         0.875622\n",
       "107  {'randomforestclassifier__criterion': 'gini', ...         0.875599\n",
       "140  {'randomforestclassifier__criterion': 'gini', ...         0.875535\n",
       "143  {'randomforestclassifier__criterion': 'gini', ...         0.875466\n",
       "108  {'randomforestclassifier__criterion': 'gini', ...         0.875387\n",
       "..                                                 ...              ...\n",
       "206  {'randomforestclassifier__criterion': 'entropy...         0.869091\n",
       "207  {'randomforestclassifier__criterion': 'entropy...         0.869025\n",
       "208  {'randomforestclassifier__criterion': 'entropy...         0.868863\n",
       "209  {'randomforestclassifier__criterion': 'entropy...         0.868411\n",
       "205  {'randomforestclassifier__criterion': 'entropy...         0.868041\n",
       "\n",
       "[350 rows x 2 columns]"
      ]
     },
     "execution_count": 799,
     "metadata": {},
     "output_type": "execute_result"
    }
   ],
   "source": [
    "results[['params', 'mean_test_score']].sort_values('mean_test_score', ascending=False)"
   ]
  },
  {
   "cell_type": "code",
   "execution_count": 800,
   "id": "d22d8fd1",
   "metadata": {},
   "outputs": [
    {
     "data": {
      "text/plain": [
       "array([1, 0, 0, ..., 1, 1, 1], dtype=int64)"
      ]
     },
     "execution_count": 800,
     "metadata": {},
     "output_type": "execute_result"
    }
   ],
   "source": [
    "y_pred=rf_gs.predict(x_test)\n",
    "y_pred"
   ]
  },
  {
   "cell_type": "code",
   "execution_count": 801,
   "id": "fabec3f0",
   "metadata": {},
   "outputs": [
    {
     "name": "stdout",
     "output_type": "stream",
     "text": [
      "              precision    recall  f1-score   support\n",
      "\n",
      "           0       0.98      0.76      0.86      1753\n",
      "           1       0.81      0.99      0.89      1783\n",
      "\n",
      "    accuracy                           0.87      3536\n",
      "   macro avg       0.89      0.87      0.87      3536\n",
      "weighted avg       0.89      0.87      0.87      3536\n",
      "\n"
     ]
    }
   ],
   "source": [
    "from sklearn.metrics import classification_report,confusion_matrix\n",
    "print(classification_report(y_test,y_pred))"
   ]
  },
  {
   "cell_type": "code",
   "execution_count": 802,
   "id": "20c222cc",
   "metadata": {},
   "outputs": [
    {
     "data": {
      "text/plain": [
       "array([[1327,  426],\n",
       "       [  23, 1760]], dtype=int64)"
      ]
     },
     "execution_count": 802,
     "metadata": {},
     "output_type": "execute_result"
    }
   ],
   "source": [
    "confusion_matrix(y_test,y_pred)"
   ]
  },
  {
   "cell_type": "code",
   "execution_count": 803,
   "id": "c6bafd62",
   "metadata": {},
   "outputs": [
    {
     "data": {
      "text/plain": [
       "<AxesSubplot:>"
      ]
     },
     "execution_count": 803,
     "metadata": {},
     "output_type": "execute_result"
    },
    {
     "data": {
      "image/png": "[encoded data removed]",
      "text/plain": [
       "<Figure size 432x288 with 2 Axes>"
      ]
     },
     "metadata": {
      "needs_background": "light"
     },
     "output_type": "display_data"
    }
   ],
   "source": [
    "sns.heatmap(confusion_matrix(y_test,y_pred))"
   ]
  },
  {
   "cell_type": "markdown",
   "id": "ada11f56",
   "metadata": {},
   "source": [
    "## Deep model"
   ]
  },
  {
   "cell_type": "code",
   "execution_count": 804,
   "id": "cff5a304",
   "metadata": {},
   "outputs": [],
   "source": [
    "import tensorflow as tf\n",
    "import numpy as np\n",
    "\n",
    "# to get reproducible results:\n",
    "np.random.seed(1234)\n",
    "tf.random.set_seed(1234)"
   ]
  },
  {
   "cell_type": "code",
   "execution_count": 805,
   "id": "99787657",
   "metadata": {},
   "outputs": [
    {
     "name": "stdout",
     "output_type": "stream",
     "text": [
      "(14144,)\n",
      "(3536,)\n"
     ]
    }
   ],
   "source": [
    "Y_train = np.asarray(Y_train).astype('float32') # float, not int!!!\n",
    "y_test = np.asarray(y_test).astype('float32') # also the class label: you'll see why\n",
    "print(Y_train.shape)\n",
    "print(y_test.shape)"
   ]
  },
  {
   "cell_type": "code",
   "execution_count": 815,
   "id": "ae03f3bb",
   "metadata": {},
   "outputs": [
    {
     "name": "stdout",
     "output_type": "stream",
     "text": [
      "Model: \"sequential_22\"\n",
      "_________________________________________________________________\n",
      " Layer (type)                Output Shape              Param #   \n",
      "=================================================================\n",
      " sigmoid1 (Dense)            (None, 32)                224       \n",
      "                                                                 \n",
      " sigmoid2 (Dense)            (None, 16)                528       \n",
      "                                                                 \n",
      " sigmoid3 (Dense)            (None, 1)                 17        \n",
      "                                                                 \n",
      "=================================================================\n",
      "Total params: 769\n",
      "Trainable params: 769\n",
      "Non-trainable params: 0\n",
      "_________________________________________________________________\n"
     ]
    }
   ],
   "source": [
    "from tensorflow import keras\n",
    "from keras import models\n",
    "from keras import layers\n",
    "\n",
    "early_stopping = tf.keras.callbacks.EarlyStopping(patience=5, restore_best_weights=True)\n",
    "\n",
    "model = models.Sequential()\n",
    "model.add(layers.Input(shape=(6)))\n",
    "model.add(layers.Dense(32, activation= 'softmax', name='sigmoid1'))\n",
    "model.add(layers.Dense(16, activation= 'softmax', name='sigmoid2'))\n",
    "model.add(layers.Dense(1, activation='sigmoid', name='sigmoid3'))\n",
    "model.summary() # explain params"
   ]
  },
  {
   "cell_type": "code",
   "execution_count": 816,
   "id": "1dda28e8",
   "metadata": {},
   "outputs": [],
   "source": [
    "model.compile(optimizer=tf.keras.optimizers.Adam(learning_rate=0.001), # Lo mismo que el otro, un pichitun mas alto en la diezmilésima\n",
    "              loss='BinaryCrossentropy',\n",
    "              metrics=['BinaryAccuracy'])\n"
   ]
  },
  {
   "cell_type": "code",
   "execution_count": 817,
   "id": "e3027a08",
   "metadata": {},
   "outputs": [
    {
     "name": "stdout",
     "output_type": "stream",
     "text": [
      "Epoch 1/50\n",
      "442/442 [==============================] - 1s 2ms/step - loss: 0.6921 - binary_accuracy: 0.5208\n",
      "Epoch 2/50\n",
      "442/442 [==============================] - 1s 2ms/step - loss: 0.6776 - binary_accuracy: 0.7562\n",
      "Epoch 3/50\n",
      "442/442 [==============================] - 1s 2ms/step - loss: 0.6173 - binary_accuracy: 0.7820\n",
      "Epoch 4/50\n",
      "442/442 [==============================] - 1s 2ms/step - loss: 0.5278 - binary_accuracy: 0.8112\n",
      "Epoch 5/50\n",
      "442/442 [==============================] - 1s 2ms/step - loss: 0.4610 - binary_accuracy: 0.8317\n",
      "Epoch 6/50\n",
      "442/442 [==============================] - 1s 2ms/step - loss: 0.4203 - binary_accuracy: 0.8407\n",
      "Epoch 7/50\n",
      "442/442 [==============================] - 1s 1ms/step - loss: 0.3957 - binary_accuracy: 0.8476\n",
      "Epoch 8/50\n",
      "442/442 [==============================] - 1s 1ms/step - loss: 0.3798 - binary_accuracy: 0.8521\n",
      "Epoch 9/50\n",
      "442/442 [==============================] - 1s 1ms/step - loss: 0.3688 - binary_accuracy: 0.8545\n",
      "Epoch 10/50\n",
      "442/442 [==============================] - 1s 1ms/step - loss: 0.3611 - binary_accuracy: 0.8581\n",
      "Epoch 11/50\n",
      "442/442 [==============================] - 1s 1ms/step - loss: 0.3552 - binary_accuracy: 0.8600\n",
      "Epoch 12/50\n",
      "442/442 [==============================] - 1s 1ms/step - loss: 0.3509 - binary_accuracy: 0.8609\n",
      "Epoch 13/50\n",
      "442/442 [==============================] - 1s 1ms/step - loss: 0.3473 - binary_accuracy: 0.8631\n",
      "Epoch 14/50\n",
      "442/442 [==============================] - 1s 1ms/step - loss: 0.3446 - binary_accuracy: 0.8640\n",
      "Epoch 15/50\n",
      "442/442 [==============================] - 1s 1ms/step - loss: 0.3422 - binary_accuracy: 0.8647\n",
      "Epoch 16/50\n",
      "442/442 [==============================] - 1s 1ms/step - loss: 0.3403 - binary_accuracy: 0.8663\n",
      "Epoch 17/50\n",
      "442/442 [==============================] - 1s 1ms/step - loss: 0.3387 - binary_accuracy: 0.8670\n",
      "Epoch 18/50\n",
      "442/442 [==============================] - 1s 1ms/step - loss: 0.3374 - binary_accuracy: 0.8680\n",
      "Epoch 19/50\n",
      "442/442 [==============================] - 1s 1ms/step - loss: 0.3362 - binary_accuracy: 0.8683\n",
      "Epoch 20/50\n",
      "442/442 [==============================] - 1s 1ms/step - loss: 0.3352 - binary_accuracy: 0.8686\n",
      "Epoch 21/50\n",
      "442/442 [==============================] - 1s 1ms/step - loss: 0.3342 - binary_accuracy: 0.8690\n",
      "Epoch 22/50\n",
      "442/442 [==============================] - 1s 1ms/step - loss: 0.3335 - binary_accuracy: 0.8691\n",
      "Epoch 23/50\n",
      "442/442 [==============================] - 1s 1ms/step - loss: 0.3328 - binary_accuracy: 0.8698\n",
      "Epoch 24/50\n",
      "442/442 [==============================] - 1s 1ms/step - loss: 0.3320 - binary_accuracy: 0.8693\n",
      "Epoch 25/50\n",
      "442/442 [==============================] - 1s 1ms/step - loss: 0.3314 - binary_accuracy: 0.8700\n",
      "Epoch 26/50\n",
      "442/442 [==============================] - 1s 1ms/step - loss: 0.3307 - binary_accuracy: 0.8698\n",
      "Epoch 27/50\n",
      "442/442 [==============================] - 1s 1ms/step - loss: 0.3302 - binary_accuracy: 0.8703\n",
      "Epoch 28/50\n",
      "442/442 [==============================] - 1s 2ms/step - loss: 0.3295 - binary_accuracy: 0.8700\n",
      "Epoch 29/50\n",
      "442/442 [==============================] - 1s 1ms/step - loss: 0.3289 - binary_accuracy: 0.8703\n",
      "Epoch 30/50\n",
      "442/442 [==============================] - 1s 1ms/step - loss: 0.3283 - binary_accuracy: 0.8710\n",
      "Epoch 31/50\n",
      "442/442 [==============================] - 0s 1ms/step - loss: 0.3277 - binary_accuracy: 0.8699\n",
      "Epoch 32/50\n",
      "442/442 [==============================] - 0s 1ms/step - loss: 0.3271 - binary_accuracy: 0.8710\n",
      "Epoch 33/50\n",
      "442/442 [==============================] - 1s 1ms/step - loss: 0.3263 - binary_accuracy: 0.8710\n",
      "Epoch 34/50\n",
      "442/442 [==============================] - 1s 1ms/step - loss: 0.3257 - binary_accuracy: 0.8716\n",
      "Epoch 35/50\n",
      "442/442 [==============================] - 1s 1ms/step - loss: 0.3249 - binary_accuracy: 0.8709\n",
      "Epoch 36/50\n",
      "442/442 [==============================] - 0s 1ms/step - loss: 0.3243 - binary_accuracy: 0.8715\n",
      "Epoch 37/50\n",
      "442/442 [==============================] - 1s 1ms/step - loss: 0.3233 - binary_accuracy: 0.8715\n",
      "Epoch 38/50\n",
      "442/442 [==============================] - 0s 1ms/step - loss: 0.3224 - binary_accuracy: 0.8719\n",
      "Epoch 39/50\n",
      "442/442 [==============================] - 0s 1ms/step - loss: 0.3215 - binary_accuracy: 0.8720\n",
      "Epoch 40/50\n",
      "442/442 [==============================] - 0s 1ms/step - loss: 0.3204 - binary_accuracy: 0.8719\n",
      "Epoch 41/50\n",
      "442/442 [==============================] - 0s 1ms/step - loss: 0.3194 - binary_accuracy: 0.8712\n",
      "Epoch 42/50\n",
      "442/442 [==============================] - 0s 1ms/step - loss: 0.3182 - binary_accuracy: 0.8717\n",
      "Epoch 43/50\n",
      "442/442 [==============================] - 1s 1ms/step - loss: 0.3174 - binary_accuracy: 0.8716\n",
      "Epoch 44/50\n",
      "442/442 [==============================] - 1s 1ms/step - loss: 0.3161 - binary_accuracy: 0.8715\n",
      "Epoch 45/50\n",
      "442/442 [==============================] - 1s 1ms/step - loss: 0.3153 - binary_accuracy: 0.8715\n",
      "Epoch 46/50\n",
      "442/442 [==============================] - 1s 1ms/step - loss: 0.3147 - binary_accuracy: 0.8713\n",
      "Epoch 47/50\n",
      "442/442 [==============================] - 1s 1ms/step - loss: 0.3139 - binary_accuracy: 0.8720\n",
      "Epoch 48/50\n",
      "442/442 [==============================] - 1s 1ms/step - loss: 0.3135 - binary_accuracy: 0.8717\n",
      "Epoch 49/50\n",
      "442/442 [==============================] - 1s 1ms/step - loss: 0.3132 - binary_accuracy: 0.8712\n",
      "Epoch 50/50\n",
      "442/442 [==============================] - 1s 1ms/step - loss: 0.3129 - binary_accuracy: 0.8713\n"
     ]
    }
   ],
   "source": [
    "num_epochs = 50\n",
    "history = model.fit(x = X_train, y = Y_train, epochs=num_epochs)"
   ]
  },
  {
   "cell_type": "code",
   "execution_count": 818,
   "id": "dcf7f309",
   "metadata": {},
   "outputs": [
    {
     "data": {
      "text/plain": [
       "array([1., 0., 0., ..., 0., 1., 1.], dtype=float32)"
      ]
     },
     "execution_count": 818,
     "metadata": {},
     "output_type": "execute_result"
    }
   ],
   "source": [
    "y_test"
   ]
  },
  {
   "cell_type": "code",
   "execution_count": 819,
   "id": "062b9f2c",
   "metadata": {},
   "outputs": [
    {
     "name": "stdout",
     "output_type": "stream",
     "text": [
      "111/111 [==============================] - 0s 1ms/step\n"
     ]
    },
    {
     "data": {
      "text/plain": [
       "array([[7.8197634e-01],\n",
       "       [2.5716424e-04],\n",
       "       [2.5525689e-04],\n",
       "       ...,\n",
       "       [7.9828584e-01],\n",
       "       [7.7429557e-01],\n",
       "       [9.0228689e-01]], dtype=float32)"
      ]
     },
     "execution_count": 819,
     "metadata": {},
     "output_type": "execute_result"
    }
   ],
   "source": [
    "y_pred=model.predict(x_test)\n",
    "y_pred\n"
   ]
  },
  {
   "cell_type": "code",
   "execution_count": 820,
   "id": "625287b0",
   "metadata": {},
   "outputs": [
    {
     "name": "stdout",
     "output_type": "stream",
     "text": [
      "[0.78 0.   0.   ... 0.8  0.77 0.9 ]\n",
      "[1 0 0 ... 1 1 1]\n"
     ]
    }
   ],
   "source": [
    "# extract the predicted probabilities\n",
    "#p_pred = model.predict(X_test)\n",
    "y_pred = y_pred.flatten()\n",
    "print(y_pred.round(2))\n",
    "\n",
    "\n",
    "# extract the predicted class labels\n",
    "y_pred1 = np.where(y_pred > 0.5, 1, 0)\n",
    "print(y_pred1)\n",
    "# [1 0 1 1 0 1 0 1 1 0 0 0 0 1 1 0 1 0 0 0 0 ..."
   ]
  },
  {
   "cell_type": "code",
   "execution_count": 821,
   "id": "0737a754",
   "metadata": {},
   "outputs": [
    {
     "name": "stdout",
     "output_type": "stream",
     "text": [
      "              precision    recall  f1-score   support\n",
      "\n",
      "         0.0       0.98      0.74      0.84      1753\n",
      "         1.0       0.80      0.98      0.88      1783\n",
      "\n",
      "    accuracy                           0.86      3536\n",
      "   macro avg       0.89      0.86      0.86      3536\n",
      "weighted avg       0.88      0.86      0.86      3536\n",
      "\n"
     ]
    }
   ],
   "source": [
    "from sklearn.metrics import classification_report,confusion_matrix\n",
    "print(classification_report(y_test,y_pred1))"
   ]
  },
  {
   "cell_type": "code",
   "execution_count": 822,
   "id": "392ffb1c",
   "metadata": {},
   "outputs": [
    {
     "data": {
      "text/plain": [
       "array([[1305,  448],\n",
       "       [  33, 1750]], dtype=int64)"
      ]
     },
     "execution_count": 822,
     "metadata": {},
     "output_type": "execute_result"
    }
   ],
   "source": [
    "confusion_matrix(y_test,y_pred1)"
   ]
  },
  {
   "cell_type": "code",
   "execution_count": 823,
   "id": "c1d1863f",
   "metadata": {},
   "outputs": [
    {
     "data": {
      "text/plain": [
       "<AxesSubplot:>"
      ]
     },
     "execution_count": 823,
     "metadata": {},
     "output_type": "execute_result"
    },
    {
     "data": {
      "image/png": "[encoded data removed]",
      "text/plain": [
       "<Figure size 432x288 with 2 Axes>"
      ]
     },
     "metadata": {
      "needs_background": "light"
     },
     "output_type": "display_data"
    }
   ],
   "source": [
    "sns.heatmap(confusion_matrix(y_test,y_pred1))"
   ]
  },
  {
   "cell_type": "code",
   "execution_count": null,
   "id": "14f6d315",
   "metadata": {},
   "outputs": [],
   "source": []
  },
  {
   "cell_type": "code",
   "execution_count": null,
   "id": "79bceb10",
   "metadata": {},
   "outputs": [],
   "source": []
  },
  {
   "cell_type": "code",
   "execution_count": null,
   "id": "7baa48e1",
   "metadata": {},
   "outputs": [],
   "source": []
  },
  {
   "cell_type": "code",
   "execution_count": null,
   "id": "14af5a2d",
   "metadata": {},
   "outputs": [],
   "source": []
  },
  {
   "cell_type": "code",
   "execution_count": null,
   "id": "d7f3b90f",
   "metadata": {},
   "outputs": [],
   "source": []
  },
  {
   "cell_type": "code",
   "execution_count": null,
   "id": "aba6e05c",
   "metadata": {},
   "outputs": [],
   "source": []
  },
  {
   "cell_type": "code",
   "execution_count": null,
   "id": "faa44d98",
   "metadata": {},
   "outputs": [],
   "source": []
  },
  {
   "cell_type": "code",
   "execution_count": null,
   "id": "38e42a83",
   "metadata": {},
   "outputs": [],
   "source": []
  }
 ],
 "metadata": {
  "kernelspec": {
   "display_name": "Python 3",
   "language": "python",
   "name": "python3"
  },
  "language_info": {
   "codemirror_mode": {
    "name": "ipython",
    "version": 3
   },
   "file_extension": ".py",
   "mimetype": "text/x-python",
   "name": "python",
   "nbconvert_exporter": "python",
   "pygments_lexer": "ipython3",
   "version": "3.8.8"
  }
 },
 "nbformat": 4,
 "nbformat_minor": 5
}
